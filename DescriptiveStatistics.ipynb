{
 "cells": [
  {
   "cell_type": "code",
   "execution_count": 16,
   "id": "00af51f0",
   "metadata": {},
   "outputs": [
    {
     "data": {
      "application/vnd.microsoft.datawrangler.viewer.v0+json": {
       "columns": [
        {
         "name": "index",
         "rawType": "int64",
         "type": "integer"
        },
        {
         "name": "Id",
         "rawType": "int64",
         "type": "integer"
        },
        {
         "name": "SepalLengthCm",
         "rawType": "float64",
         "type": "float"
        },
        {
         "name": "SepalWidthCm",
         "rawType": "float64",
         "type": "float"
        },
        {
         "name": "PetalLengthCm",
         "rawType": "float64",
         "type": "float"
        },
        {
         "name": "PetalWidthCm",
         "rawType": "float64",
         "type": "float"
        },
        {
         "name": "Species",
         "rawType": "object",
         "type": "string"
        }
       ],
       "ref": "ae37bfbe-f519-4675-981d-51ce07a557aa",
       "rows": [
        [
         "145",
         "146",
         "6.7",
         "3.0",
         "5.2",
         "2.3",
         "Iris-virginica"
        ],
        [
         "146",
         "147",
         "6.3",
         "2.5",
         "5.0",
         "1.9",
         "Iris-virginica"
        ],
        [
         "147",
         "148",
         "6.5",
         "3.0",
         "5.2",
         "2.0",
         "Iris-virginica"
        ],
        [
         "148",
         "149",
         "6.2",
         "3.4",
         "5.4",
         "2.3",
         "Iris-virginica"
        ],
        [
         "149",
         "150",
         "5.9",
         "3.0",
         "5.1",
         "1.8",
         "Iris-virginica"
        ]
       ],
       "shape": {
        "columns": 6,
        "rows": 5
       }
      },
      "text/html": [
       "<div>\n",
       "<style scoped>\n",
       "    .dataframe tbody tr th:only-of-type {\n",
       "        vertical-align: middle;\n",
       "    }\n",
       "\n",
       "    .dataframe tbody tr th {\n",
       "        vertical-align: top;\n",
       "    }\n",
       "\n",
       "    .dataframe thead th {\n",
       "        text-align: right;\n",
       "    }\n",
       "</style>\n",
       "<table border=\"1\" class=\"dataframe\">\n",
       "  <thead>\n",
       "    <tr style=\"text-align: right;\">\n",
       "      <th></th>\n",
       "      <th>Id</th>\n",
       "      <th>SepalLengthCm</th>\n",
       "      <th>SepalWidthCm</th>\n",
       "      <th>PetalLengthCm</th>\n",
       "      <th>PetalWidthCm</th>\n",
       "      <th>Species</th>\n",
       "    </tr>\n",
       "  </thead>\n",
       "  <tbody>\n",
       "    <tr>\n",
       "      <th>145</th>\n",
       "      <td>146</td>\n",
       "      <td>6.7</td>\n",
       "      <td>3.0</td>\n",
       "      <td>5.2</td>\n",
       "      <td>2.3</td>\n",
       "      <td>Iris-virginica</td>\n",
       "    </tr>\n",
       "    <tr>\n",
       "      <th>146</th>\n",
       "      <td>147</td>\n",
       "      <td>6.3</td>\n",
       "      <td>2.5</td>\n",
       "      <td>5.0</td>\n",
       "      <td>1.9</td>\n",
       "      <td>Iris-virginica</td>\n",
       "    </tr>\n",
       "    <tr>\n",
       "      <th>147</th>\n",
       "      <td>148</td>\n",
       "      <td>6.5</td>\n",
       "      <td>3.0</td>\n",
       "      <td>5.2</td>\n",
       "      <td>2.0</td>\n",
       "      <td>Iris-virginica</td>\n",
       "    </tr>\n",
       "    <tr>\n",
       "      <th>148</th>\n",
       "      <td>149</td>\n",
       "      <td>6.2</td>\n",
       "      <td>3.4</td>\n",
       "      <td>5.4</td>\n",
       "      <td>2.3</td>\n",
       "      <td>Iris-virginica</td>\n",
       "    </tr>\n",
       "    <tr>\n",
       "      <th>149</th>\n",
       "      <td>150</td>\n",
       "      <td>5.9</td>\n",
       "      <td>3.0</td>\n",
       "      <td>5.1</td>\n",
       "      <td>1.8</td>\n",
       "      <td>Iris-virginica</td>\n",
       "    </tr>\n",
       "  </tbody>\n",
       "</table>\n",
       "</div>"
      ],
      "text/plain": [
       "      Id  SepalLengthCm  SepalWidthCm  PetalLengthCm  PetalWidthCm  \\\n",
       "145  146            6.7           3.0            5.2           2.3   \n",
       "146  147            6.3           2.5            5.0           1.9   \n",
       "147  148            6.5           3.0            5.2           2.0   \n",
       "148  149            6.2           3.4            5.4           2.3   \n",
       "149  150            5.9           3.0            5.1           1.8   \n",
       "\n",
       "            Species  \n",
       "145  Iris-virginica  \n",
       "146  Iris-virginica  \n",
       "147  Iris-virginica  \n",
       "148  Iris-virginica  \n",
       "149  Iris-virginica  "
      ]
     },
     "execution_count": 16,
     "metadata": {},
     "output_type": "execute_result"
    }
   ],
   "source": [
    "import pandas as pd\n",
    "\n",
    "df = pd.read_csv('C:/Users/71477/OneDrive - PT. Federal International Finance/External Class Training/Data Analytics/data/datasets/Iris.csv')\n",
    "df.tail()"
   ]
  },
  {
   "cell_type": "code",
   "execution_count": 17,
   "id": "32335fdd",
   "metadata": {},
   "outputs": [
    {
     "data": {
      "application/vnd.microsoft.datawrangler.viewer.v0+json": {
       "columns": [
        {
         "name": "index",
         "rawType": "object",
         "type": "string"
        },
        {
         "name": "Id",
         "rawType": "float64",
         "type": "float"
        },
        {
         "name": "SepalLengthCm",
         "rawType": "float64",
         "type": "float"
        },
        {
         "name": "SepalWidthCm",
         "rawType": "float64",
         "type": "float"
        },
        {
         "name": "PetalLengthCm",
         "rawType": "float64",
         "type": "float"
        },
        {
         "name": "PetalWidthCm",
         "rawType": "float64",
         "type": "float"
        }
       ],
       "ref": "01ea64f5-4b67-4cf8-9816-b42aea07846f",
       "rows": [
        [
         "count",
         "150.0",
         "150.0",
         "150.0",
         "150.0",
         "150.0"
        ],
        [
         "mean",
         "75.5",
         "5.843333333333334",
         "3.0540000000000003",
         "3.758666666666666",
         "1.1986666666666668"
        ],
        [
         "std",
         "43.445367992456916",
         "0.828066127977863",
         "0.4335943113621737",
         "1.7644204199522626",
         "0.7631607417008411"
        ],
        [
         "min",
         "1.0",
         "4.3",
         "2.0",
         "1.0",
         "0.1"
        ],
        [
         "25%",
         "38.25",
         "5.1",
         "2.8",
         "1.6",
         "0.3"
        ],
        [
         "50%",
         "75.5",
         "5.8",
         "3.0",
         "4.35",
         "1.3"
        ],
        [
         "75%",
         "112.75",
         "6.4",
         "3.3",
         "5.1",
         "1.8"
        ],
        [
         "max",
         "150.0",
         "7.9",
         "4.4",
         "6.9",
         "2.5"
        ]
       ],
       "shape": {
        "columns": 5,
        "rows": 8
       }
      },
      "text/html": [
       "<div>\n",
       "<style scoped>\n",
       "    .dataframe tbody tr th:only-of-type {\n",
       "        vertical-align: middle;\n",
       "    }\n",
       "\n",
       "    .dataframe tbody tr th {\n",
       "        vertical-align: top;\n",
       "    }\n",
       "\n",
       "    .dataframe thead th {\n",
       "        text-align: right;\n",
       "    }\n",
       "</style>\n",
       "<table border=\"1\" class=\"dataframe\">\n",
       "  <thead>\n",
       "    <tr style=\"text-align: right;\">\n",
       "      <th></th>\n",
       "      <th>Id</th>\n",
       "      <th>SepalLengthCm</th>\n",
       "      <th>SepalWidthCm</th>\n",
       "      <th>PetalLengthCm</th>\n",
       "      <th>PetalWidthCm</th>\n",
       "    </tr>\n",
       "  </thead>\n",
       "  <tbody>\n",
       "    <tr>\n",
       "      <th>count</th>\n",
       "      <td>150.000000</td>\n",
       "      <td>150.000000</td>\n",
       "      <td>150.000000</td>\n",
       "      <td>150.000000</td>\n",
       "      <td>150.000000</td>\n",
       "    </tr>\n",
       "    <tr>\n",
       "      <th>mean</th>\n",
       "      <td>75.500000</td>\n",
       "      <td>5.843333</td>\n",
       "      <td>3.054000</td>\n",
       "      <td>3.758667</td>\n",
       "      <td>1.198667</td>\n",
       "    </tr>\n",
       "    <tr>\n",
       "      <th>std</th>\n",
       "      <td>43.445368</td>\n",
       "      <td>0.828066</td>\n",
       "      <td>0.433594</td>\n",
       "      <td>1.764420</td>\n",
       "      <td>0.763161</td>\n",
       "    </tr>\n",
       "    <tr>\n",
       "      <th>min</th>\n",
       "      <td>1.000000</td>\n",
       "      <td>4.300000</td>\n",
       "      <td>2.000000</td>\n",
       "      <td>1.000000</td>\n",
       "      <td>0.100000</td>\n",
       "    </tr>\n",
       "    <tr>\n",
       "      <th>25%</th>\n",
       "      <td>38.250000</td>\n",
       "      <td>5.100000</td>\n",
       "      <td>2.800000</td>\n",
       "      <td>1.600000</td>\n",
       "      <td>0.300000</td>\n",
       "    </tr>\n",
       "    <tr>\n",
       "      <th>50%</th>\n",
       "      <td>75.500000</td>\n",
       "      <td>5.800000</td>\n",
       "      <td>3.000000</td>\n",
       "      <td>4.350000</td>\n",
       "      <td>1.300000</td>\n",
       "    </tr>\n",
       "    <tr>\n",
       "      <th>75%</th>\n",
       "      <td>112.750000</td>\n",
       "      <td>6.400000</td>\n",
       "      <td>3.300000</td>\n",
       "      <td>5.100000</td>\n",
       "      <td>1.800000</td>\n",
       "    </tr>\n",
       "    <tr>\n",
       "      <th>max</th>\n",
       "      <td>150.000000</td>\n",
       "      <td>7.900000</td>\n",
       "      <td>4.400000</td>\n",
       "      <td>6.900000</td>\n",
       "      <td>2.500000</td>\n",
       "    </tr>\n",
       "  </tbody>\n",
       "</table>\n",
       "</div>"
      ],
      "text/plain": [
       "               Id  SepalLengthCm  SepalWidthCm  PetalLengthCm  PetalWidthCm\n",
       "count  150.000000     150.000000    150.000000     150.000000    150.000000\n",
       "mean    75.500000       5.843333      3.054000       3.758667      1.198667\n",
       "std     43.445368       0.828066      0.433594       1.764420      0.763161\n",
       "min      1.000000       4.300000      2.000000       1.000000      0.100000\n",
       "25%     38.250000       5.100000      2.800000       1.600000      0.300000\n",
       "50%     75.500000       5.800000      3.000000       4.350000      1.300000\n",
       "75%    112.750000       6.400000      3.300000       5.100000      1.800000\n",
       "max    150.000000       7.900000      4.400000       6.900000      2.500000"
      ]
     },
     "execution_count": 17,
     "metadata": {},
     "output_type": "execute_result"
    }
   ],
   "source": [
    "df.describe()"
   ]
  },
  {
   "cell_type": "code",
   "execution_count": 18,
   "id": "a88e13ca",
   "metadata": {},
   "outputs": [
    {
     "name": "stdout",
     "output_type": "stream",
     "text": [
      "<class 'pandas.core.frame.DataFrame'>\n",
      "RangeIndex: 150 entries, 0 to 149\n",
      "Data columns (total 6 columns):\n",
      " #   Column         Non-Null Count  Dtype  \n",
      "---  ------         --------------  -----  \n",
      " 0   Id             150 non-null    int64  \n",
      " 1   SepalLengthCm  150 non-null    float64\n",
      " 2   SepalWidthCm   150 non-null    float64\n",
      " 3   PetalLengthCm  150 non-null    float64\n",
      " 4   PetalWidthCm   150 non-null    float64\n",
      " 5   Species        150 non-null    object \n",
      "dtypes: float64(4), int64(1), object(1)\n",
      "memory usage: 7.2+ KB\n"
     ]
    }
   ],
   "source": [
    "df.info()"
   ]
  },
  {
   "cell_type": "code",
   "execution_count": 19,
   "id": "afd13bb6",
   "metadata": {},
   "outputs": [
    {
     "data": {
      "application/vnd.microsoft.datawrangler.viewer.v0+json": {
       "columns": [
        {
         "name": "index",
         "rawType": "int64",
         "type": "integer"
        },
        {
         "name": "Id",
         "rawType": "int64",
         "type": "integer"
        },
        {
         "name": "SepalLengthCm",
         "rawType": "float64",
         "type": "float"
        },
        {
         "name": "SepalWidthCm",
         "rawType": "float64",
         "type": "float"
        },
        {
         "name": "PetalLengthCm",
         "rawType": "float64",
         "type": "float"
        },
        {
         "name": "PetalWidthCm",
         "rawType": "float64",
         "type": "float"
        },
        {
         "name": "Species",
         "rawType": "object",
         "type": "string"
        }
       ],
       "ref": "2249aae7-cdb5-41ab-bee4-edef181f8930",
       "rows": [
        [
         "146",
         "147",
         "6.3",
         "2.5",
         "5.0",
         "1.9",
         "Iris-virginica"
        ],
        [
         "147",
         "148",
         "6.5",
         "3.0",
         "5.2",
         "2.0",
         "Iris-virginica"
        ],
        [
         "148",
         "149",
         "6.2",
         "3.4",
         "5.4",
         "2.3",
         "Iris-virginica"
        ],
        [
         "149",
         "150",
         "5.9",
         "3.0",
         "5.1",
         "1.8",
         "Iris-virginica"
        ],
        [
         "150",
         "151",
         "15.0",
         "9.0",
         "12.0",
         "8.0",
         "Iris-setosa"
        ]
       ],
       "shape": {
        "columns": 6,
        "rows": 5
       }
      },
      "text/html": [
       "<div>\n",
       "<style scoped>\n",
       "    .dataframe tbody tr th:only-of-type {\n",
       "        vertical-align: middle;\n",
       "    }\n",
       "\n",
       "    .dataframe tbody tr th {\n",
       "        vertical-align: top;\n",
       "    }\n",
       "\n",
       "    .dataframe thead th {\n",
       "        text-align: right;\n",
       "    }\n",
       "</style>\n",
       "<table border=\"1\" class=\"dataframe\">\n",
       "  <thead>\n",
       "    <tr style=\"text-align: right;\">\n",
       "      <th></th>\n",
       "      <th>Id</th>\n",
       "      <th>SepalLengthCm</th>\n",
       "      <th>SepalWidthCm</th>\n",
       "      <th>PetalLengthCm</th>\n",
       "      <th>PetalWidthCm</th>\n",
       "      <th>Species</th>\n",
       "    </tr>\n",
       "  </thead>\n",
       "  <tbody>\n",
       "    <tr>\n",
       "      <th>146</th>\n",
       "      <td>147</td>\n",
       "      <td>6.3</td>\n",
       "      <td>2.5</td>\n",
       "      <td>5.0</td>\n",
       "      <td>1.9</td>\n",
       "      <td>Iris-virginica</td>\n",
       "    </tr>\n",
       "    <tr>\n",
       "      <th>147</th>\n",
       "      <td>148</td>\n",
       "      <td>6.5</td>\n",
       "      <td>3.0</td>\n",
       "      <td>5.2</td>\n",
       "      <td>2.0</td>\n",
       "      <td>Iris-virginica</td>\n",
       "    </tr>\n",
       "    <tr>\n",
       "      <th>148</th>\n",
       "      <td>149</td>\n",
       "      <td>6.2</td>\n",
       "      <td>3.4</td>\n",
       "      <td>5.4</td>\n",
       "      <td>2.3</td>\n",
       "      <td>Iris-virginica</td>\n",
       "    </tr>\n",
       "    <tr>\n",
       "      <th>149</th>\n",
       "      <td>150</td>\n",
       "      <td>5.9</td>\n",
       "      <td>3.0</td>\n",
       "      <td>5.1</td>\n",
       "      <td>1.8</td>\n",
       "      <td>Iris-virginica</td>\n",
       "    </tr>\n",
       "    <tr>\n",
       "      <th>150</th>\n",
       "      <td>151</td>\n",
       "      <td>15.0</td>\n",
       "      <td>9.0</td>\n",
       "      <td>12.0</td>\n",
       "      <td>8.0</td>\n",
       "      <td>Iris-setosa</td>\n",
       "    </tr>\n",
       "  </tbody>\n",
       "</table>\n",
       "</div>"
      ],
      "text/plain": [
       "      Id  SepalLengthCm  SepalWidthCm  PetalLengthCm  PetalWidthCm  \\\n",
       "146  147            6.3           2.5            5.0           1.9   \n",
       "147  148            6.5           3.0            5.2           2.0   \n",
       "148  149            6.2           3.4            5.4           2.3   \n",
       "149  150            5.9           3.0            5.1           1.8   \n",
       "150  151           15.0           9.0           12.0           8.0   \n",
       "\n",
       "            Species  \n",
       "146  Iris-virginica  \n",
       "147  Iris-virginica  \n",
       "148  Iris-virginica  \n",
       "149  Iris-virginica  \n",
       "150     Iris-setosa  "
      ]
     },
     "execution_count": 19,
     "metadata": {},
     "output_type": "execute_result"
    }
   ],
   "source": [
    "# Menambahkan data outlier\n",
    "df.loc[len(df)] = [len(df)+1, 15.0, 9.0, 12.0, 8.0, 'Iris-setosa']\n",
    "df.tail()"
   ]
  },
  {
   "cell_type": "code",
   "execution_count": 21,
   "id": "0cb24a3a",
   "metadata": {},
   "outputs": [
    {
     "data": {
      "application/vnd.microsoft.datawrangler.viewer.v0+json": {
       "columns": [
        {
         "name": "index",
         "rawType": "object",
         "type": "string"
        },
        {
         "name": "Id",
         "rawType": "float64",
         "type": "float"
        },
        {
         "name": "SepalLengthCm",
         "rawType": "float64",
         "type": "float"
        },
        {
         "name": "SepalWidthCm",
         "rawType": "float64",
         "type": "float"
        },
        {
         "name": "PetalLengthCm",
         "rawType": "float64",
         "type": "float"
        },
        {
         "name": "PetalWidthCm",
         "rawType": "float64",
         "type": "float"
        }
       ],
       "ref": "a41b8db3-1584-4b94-ade5-5d373f14a0f6",
       "rows": [
        [
         "count",
         "151.0",
         "151.0",
         "151.0",
         "151.0",
         "151.0"
        ],
        [
         "mean",
         "76.0",
         "5.903973509933775",
         "3.093377483443709",
         "3.8132450331125827",
         "1.2437086092715233"
        ],
        [
         "std",
         "43.734044709661454",
         "1.1119281028736816",
         "0.6487597268811914",
         "1.8820795412411504",
         "0.940678915035334"
        ],
        [
         "min",
         "1.0",
         "4.3",
         "2.0",
         "1.0",
         "0.1"
        ],
        [
         "25%",
         "38.5",
         "5.1",
         "2.8",
         "1.6",
         "0.3"
        ],
        [
         "50%",
         "76.0",
         "5.8",
         "3.0",
         "4.4",
         "1.3"
        ],
        [
         "75%",
         "113.5",
         "6.4",
         "3.3",
         "5.1",
         "1.8"
        ],
        [
         "max",
         "151.0",
         "15.0",
         "9.0",
         "12.0",
         "8.0"
        ]
       ],
       "shape": {
        "columns": 5,
        "rows": 8
       }
      },
      "text/html": [
       "<div>\n",
       "<style scoped>\n",
       "    .dataframe tbody tr th:only-of-type {\n",
       "        vertical-align: middle;\n",
       "    }\n",
       "\n",
       "    .dataframe tbody tr th {\n",
       "        vertical-align: top;\n",
       "    }\n",
       "\n",
       "    .dataframe thead th {\n",
       "        text-align: right;\n",
       "    }\n",
       "</style>\n",
       "<table border=\"1\" class=\"dataframe\">\n",
       "  <thead>\n",
       "    <tr style=\"text-align: right;\">\n",
       "      <th></th>\n",
       "      <th>Id</th>\n",
       "      <th>SepalLengthCm</th>\n",
       "      <th>SepalWidthCm</th>\n",
       "      <th>PetalLengthCm</th>\n",
       "      <th>PetalWidthCm</th>\n",
       "    </tr>\n",
       "  </thead>\n",
       "  <tbody>\n",
       "    <tr>\n",
       "      <th>count</th>\n",
       "      <td>151.000000</td>\n",
       "      <td>151.000000</td>\n",
       "      <td>151.000000</td>\n",
       "      <td>151.000000</td>\n",
       "      <td>151.000000</td>\n",
       "    </tr>\n",
       "    <tr>\n",
       "      <th>mean</th>\n",
       "      <td>76.000000</td>\n",
       "      <td>5.903974</td>\n",
       "      <td>3.093377</td>\n",
       "      <td>3.813245</td>\n",
       "      <td>1.243709</td>\n",
       "    </tr>\n",
       "    <tr>\n",
       "      <th>std</th>\n",
       "      <td>43.734045</td>\n",
       "      <td>1.111928</td>\n",
       "      <td>0.648760</td>\n",
       "      <td>1.882080</td>\n",
       "      <td>0.940679</td>\n",
       "    </tr>\n",
       "    <tr>\n",
       "      <th>min</th>\n",
       "      <td>1.000000</td>\n",
       "      <td>4.300000</td>\n",
       "      <td>2.000000</td>\n",
       "      <td>1.000000</td>\n",
       "      <td>0.100000</td>\n",
       "    </tr>\n",
       "    <tr>\n",
       "      <th>25%</th>\n",
       "      <td>38.500000</td>\n",
       "      <td>5.100000</td>\n",
       "      <td>2.800000</td>\n",
       "      <td>1.600000</td>\n",
       "      <td>0.300000</td>\n",
       "    </tr>\n",
       "    <tr>\n",
       "      <th>50%</th>\n",
       "      <td>76.000000</td>\n",
       "      <td>5.800000</td>\n",
       "      <td>3.000000</td>\n",
       "      <td>4.400000</td>\n",
       "      <td>1.300000</td>\n",
       "    </tr>\n",
       "    <tr>\n",
       "      <th>75%</th>\n",
       "      <td>113.500000</td>\n",
       "      <td>6.400000</td>\n",
       "      <td>3.300000</td>\n",
       "      <td>5.100000</td>\n",
       "      <td>1.800000</td>\n",
       "    </tr>\n",
       "    <tr>\n",
       "      <th>max</th>\n",
       "      <td>151.000000</td>\n",
       "      <td>15.000000</td>\n",
       "      <td>9.000000</td>\n",
       "      <td>12.000000</td>\n",
       "      <td>8.000000</td>\n",
       "    </tr>\n",
       "  </tbody>\n",
       "</table>\n",
       "</div>"
      ],
      "text/plain": [
       "               Id  SepalLengthCm  SepalWidthCm  PetalLengthCm  PetalWidthCm\n",
       "count  151.000000     151.000000    151.000000     151.000000    151.000000\n",
       "mean    76.000000       5.903974      3.093377       3.813245      1.243709\n",
       "std     43.734045       1.111928      0.648760       1.882080      0.940679\n",
       "min      1.000000       4.300000      2.000000       1.000000      0.100000\n",
       "25%     38.500000       5.100000      2.800000       1.600000      0.300000\n",
       "50%     76.000000       5.800000      3.000000       4.400000      1.300000\n",
       "75%    113.500000       6.400000      3.300000       5.100000      1.800000\n",
       "max    151.000000      15.000000      9.000000      12.000000      8.000000"
      ]
     },
     "execution_count": 21,
     "metadata": {},
     "output_type": "execute_result"
    }
   ],
   "source": [
    "df.describe()"
   ]
  },
  {
   "cell_type": "code",
   "execution_count": 8,
   "id": "86df2e93",
   "metadata": {},
   "outputs": [],
   "source": [
    "# Mean\n",
    "def mean(data):\n",
    "    total = 0\n",
    "    count = 0\n",
    "    \n",
    "    for value in data:\n",
    "        total += value\n",
    "        count += 1\n",
    "    \n",
    "    if count == 0:\n",
    "        return None  # Hindari pembagian nol\n",
    "    \n",
    "    mean = total / count\n",
    "    return mean"
   ]
  },
  {
   "cell_type": "code",
   "execution_count": 20,
   "id": "69aeb5d9",
   "metadata": {},
   "outputs": [
    {
     "name": "stdout",
     "output_type": "stream",
     "text": [
      "Mean Sepal Length (cm) =  5.903973509933777\n",
      "Mean Sepal Width (cm) =  3.0933774834437093\n",
      "Mean Petal Length (cm) =  3.8132450331125853\n",
      "Mean Petal Width (cm) =  1.2437086092715237\n"
     ]
    }
   ],
   "source": [
    "# Menghitung Rata-Rata dari setiap feature\n",
    "print('Mean Sepal Length (cm) = ', mean(df['SepalLengthCm']))\n",
    "print('Mean Sepal Width (cm) = ', mean(df['SepalWidthCm']))\n",
    "print('Mean Petal Length (cm) = ', mean(df['PetalLengthCm']))\n",
    "print('Mean Petal Width (cm) = ', mean(df['PetalWidthCm']))"
   ]
  },
  {
   "cell_type": "code",
   "execution_count": 23,
   "id": "10e108a4",
   "metadata": {},
   "outputs": [],
   "source": [
    "# Mencari nilai tengah atau median dari sebuah data\n",
    "def median(data):\n",
    "\n",
    "    sorted_data = sorted(data) #data harus diurutkan terlebih dahulu\n",
    "    n = len(sorted_data) #jumlah data\n",
    "    middle_value = n // 2\n",
    "    \n",
    "    if n % 2 == 0: #Jika jumlah data genap\n",
    "        return (sorted_data[middle_value - 1] + sorted_data[middle_value]) / 2\n",
    "    \n",
    "    else: # Jika jumlah data ganjil, langsung mengambil nilai tengah\n",
    "        return sorted_data[middle_value]\n"
   ]
  },
  {
   "cell_type": "code",
   "execution_count": 24,
   "id": "12ae2486",
   "metadata": {},
   "outputs": [
    {
     "name": "stdout",
     "output_type": "stream",
     "text": [
      "Median Sepal Length (cm) =  5.8\n",
      "Median Sepal Width (cm) =  3.0\n",
      "Median Petal Length (cm) =  4.4\n",
      "Median Petal Width (cm) =  1.3\n"
     ]
    }
   ],
   "source": [
    "# Mencari median dari setiap feature\n",
    "print('Median Sepal Length (cm) = ', median(df['SepalLengthCm']))\n",
    "print('Median Sepal Width (cm) = ', median(df['SepalWidthCm']))\n",
    "print('Median Petal Length (cm) = ', median(df['PetalLengthCm']))\n",
    "print('Median Petal Width (cm) = ', median(df['PetalWidthCm']))"
   ]
  },
  {
   "cell_type": "code",
   "execution_count": null,
   "id": "effc93bb",
   "metadata": {},
   "outputs": [],
   "source": [
    "def mode(data):\n",
    "    \n",
    "    count = {} # Dictionary kosong untuk menyimpan key dan value; kalo list hanya menyimpan value saja\n",
    "    \n",
    "    for value in data:\n",
    "        if value in count:\n",
    "            count[value] += 1 #setiap value sama di simpan di variable count\n",
    "        else:\n",
    "            count[value] = 1\n",
    "\n",
    "    # Mencari jumlah count terbesar\n",
    "    max_count = max(count.values())\n",
    "    \n",
    "    # Mengambil semua nilai yang memiliki frekuensi maksimum\n",
    "    modes = [key for key, value in count.items() if value == max_count]\n",
    "    \n",
    "    if len(modes) == 1:\n",
    "        return modes[0]  # hanya satu modus\n",
    "    else:\n",
    "        return modes      # multipe modus\n"
   ]
  },
  {
   "cell_type": "code",
   "execution_count": null,
   "id": "71ba8d59",
   "metadata": {},
   "outputs": [
    {
     "name": "stdout",
     "output_type": "stream",
     "text": [
      "Modus Sepal Length (cm) =  5.0\n",
      "Modus Sepal Width (cm) =  3.0\n",
      "Modus Petal Length (cm) =  1.5\n",
      "Modus Petal Width (cm) =  0.2\n"
     ]
    }
   ],
   "source": [
    "# Mencari modus dari setiap feature\n",
    "print('Modus Sepal Length (cm) = ', mode(df['SepalLengthCm']))\n",
    "print('Modus Sepal Width (cm) = ', mode(df['SepalWidthCm']))\n",
    "print('Modus Petal Length (cm) = ', mode(df['PetalLengthCm']))\n",
    "print('Modus Petal Width (cm) = ', mode(df['PetalWidthCm']))"
   ]
  },
  {
   "cell_type": "code",
   "execution_count": null,
   "id": "d3cfc113",
   "metadata": {},
   "outputs": [
    {
     "name": "stdout",
     "output_type": "stream",
     "text": [
      "Modus Sepal Length (cm) =  5.0\n",
      "Modus Sepal Width (cm) =  3.0\n",
      "Modus Petal Length (cm) =  1.5\n",
      "Modus Petal Width (cm) =  0.2\n"
     ]
    }
   ],
   "source": [
    "# Validasi hasil perhitungan manual\n",
    "import statistics as st\n",
    "print('Modus Sepal Length (cm) = ', st.mode(df['SepalLengthCm']))\n",
    "print('Modus Sepal Width (cm) = ', st.mode(df['SepalWidthCm']))\n",
    "print('Modus Petal Length (cm) = ', st.mode(df['PetalLengthCm']))\n",
    "print('Modus Petal Width (cm) = ', st.mode(df['PetalWidthCm']))"
   ]
  },
  {
   "cell_type": "code",
   "execution_count": 31,
   "id": "079960cf",
   "metadata": {},
   "outputs": [],
   "source": [
    "def variance_population(data):\n",
    "    \n",
    "    n = len(data) \n",
    "\n",
    "    # Hitung mean (rata-rata)\n",
    "    mean_value = mean(data)\n",
    "\n",
    "    # Hitung jumlah kuadrat selisih dari mean\n",
    "    total_squared_diff = 0\n",
    "    for value in data:\n",
    "        total_squared_diff += (value - mean_value) ** 2\n",
    "\n",
    "    # Bagi dengan n (karena ini populasi)\n",
    "    variance = total_squared_diff / n\n",
    "    return variance\n"
   ]
  },
  {
   "cell_type": "code",
   "execution_count": 32,
   "id": "fb15d74b",
   "metadata": {},
   "outputs": [
    {
     "name": "stdout",
     "output_type": "stream",
     "text": [
      "Variansi Sepal Length (cm) =  1.2281961317486076\n",
      "Variansi Sepal Width (cm) =  0.41810183763869985\n",
      "Variansi Petal Length (cm) =  3.518764966448841\n",
      "Variansi Petal Width (cm) =  0.8790167097934297\n"
     ]
    }
   ],
   "source": [
    "# Mencari variansi dari setiap feature\n",
    "print('Variansi Sepal Length (cm) = ', variance_population(df['SepalLengthCm']))\n",
    "print('Variansi Sepal Width (cm) = ', variance_population(df['SepalWidthCm']))\n",
    "print('Variansi Petal Length (cm) = ', variance_population(df['PetalLengthCm']))\n",
    "print('Variansi Petal Width (cm) = ', variance_population(df['PetalWidthCm']))"
   ]
  },
  {
   "cell_type": "code",
   "execution_count": null,
   "id": "1ed1b235",
   "metadata": {},
   "outputs": [
    {
     "name": "stdout",
     "output_type": "stream",
     "text": [
      "Variansi Sepal Length (cm) =  1.2281961317486074\n",
      "Variansi Sepal Width (cm) =  0.4181018376387002\n",
      "Variansi Petal Length (cm) =  3.51876496644884\n",
      "Variansi Petal Width (cm) =  0.8790167097934302\n"
     ]
    }
   ],
   "source": [
    "# Validasi hasil\n",
    "import numpy as np\n",
    "print('Variansi Sepal Length (cm) = ', np.var(df['SepalLengthCm']))\n",
    "print('Variansi Sepal Width (cm) = ', np.var(df['SepalWidthCm']))\n",
    "print('Variansi Petal Length (cm) = ', np.var(df['PetalLengthCm']))\n",
    "print('Variansi Petal Width (cm) = ', np.var(df['PetalWidthCm']))"
   ]
  },
  {
   "cell_type": "code",
   "execution_count": 35,
   "id": "eaaaa8e6",
   "metadata": {},
   "outputs": [],
   "source": [
    "def ptp(data):\n",
    "\n",
    "    if len(data) == 0:\n",
    "        return None  # Tidak bisa hitung jika data kosong\n",
    "\n",
    "    min_val = data[0]\n",
    "    max_val = data[0]\n",
    "\n",
    "    for val in data:\n",
    "        if val < min_val:\n",
    "            min_val = val\n",
    "        if val > max_val:\n",
    "            max_val = val\n",
    "\n",
    "    return max_val - min_val"
   ]
  },
  {
   "cell_type": "code",
   "execution_count": null,
   "id": "1888c8db",
   "metadata": {},
   "outputs": [
    {
     "name": "stdout",
     "output_type": "stream",
     "text": [
      "Variansi Sepal Length (cm) =  10.7\n",
      "Variansi Sepal Width (cm) =  7.0\n",
      "Variansi Petal Length (cm) =  11.0\n",
      "Variansi Petal Width (cm) =  7.9\n"
     ]
    }
   ],
   "source": [
    "# Menghitung nilai peak to peak\n",
    "print('Variansi Sepal Length (cm) = ', ptp(df['SepalLengthCm']))\n",
    "print('Variansi Sepal Width (cm) = ', ptp(df['SepalWidthCm']))\n",
    "print('Variansi Petal Length (cm) = ', ptp(df['PetalLengthCm']))\n",
    "print('Variansi Petal Width (cm) = ', ptp(df['PetalWidthCm']))"
   ]
  },
  {
   "cell_type": "code",
   "execution_count": null,
   "id": "39170fe3",
   "metadata": {},
   "outputs": [
    {
     "name": "stdout",
     "output_type": "stream",
     "text": [
      "Variansi Sepal Length (cm) =  10.7\n",
      "Variansi Sepal Width (cm) =  7.0\n",
      "Variansi Petal Length (cm) =  11.0\n",
      "Variansi Petal Width (cm) =  7.9\n"
     ]
    }
   ],
   "source": [
    "# Validasi nilai peak to peak menggunakan function \n",
    "print('Variansi Sepal Length (cm) = ', np.ptp(df['SepalLengthCm']))\n",
    "print('Variansi Sepal Width (cm) = ', np.ptp(df['SepalWidthCm']))\n",
    "print('Variansi Petal Length (cm) = ', np.ptp(df['PetalLengthCm']))\n",
    "print('Variansi Petal Width (cm) = ', np.ptp(df['PetalWidthCm']))"
   ]
  },
  {
   "cell_type": "code",
   "execution_count": 65,
   "id": "83be0405",
   "metadata": {},
   "outputs": [],
   "source": [
    "def v_iqr(data):\n",
    "\n",
    "    sorted_data = sorted(data)\n",
    "    n = len(sorted_data)\n",
    "\n",
    "    def get_percentile(p):\n",
    "        pos = p * (n + 1) / 100\n",
    "        k = int(pos) - 1  # karena index di Python dimulai dari 0\n",
    "        f = pos - int(pos)\n",
    "\n",
    "        if k < 0:\n",
    "            return sorted_data[0]\n",
    "        elif k + 1 >= n:\n",
    "            return sorted_data[-1]\n",
    "        else:\n",
    "            # interpolasi antara posisi k dan k+1\n",
    "            return sorted_data[k] + f * (sorted_data[k + 1] - sorted_data[k])\n",
    "\n",
    "    q1 = get_percentile(25)\n",
    "    q3 = get_percentile(75)\n",
    "    v_iqr = q3 - q1\n",
    "\n",
    "    return q1,q3,v_iqr"
   ]
  },
  {
   "cell_type": "code",
   "execution_count": 66,
   "id": "d8e5e032",
   "metadata": {},
   "outputs": [
    {
     "name": "stdout",
     "output_type": "stream",
     "text": [
      "Range Sepal Length (Q1, Q3, IQR) =  (5.1, 6.4, 1.3000000000000007)\n",
      "Range Sepal Width (Q1, Q3, IQR) =  (2.8, 3.3, 0.5)\n",
      "Range Petal Length (Q1, Q3, IQR) =  (1.6, 5.1, 3.4999999999999996)\n",
      "Range Petal Width (Q1, Q3, IQR) =  (0.3, 1.8, 1.5)\n"
     ]
    }
   ],
   "source": [
    "# Menentukan range\n",
    "print('Range Sepal Length (Q1, Q3, IQR) = ', v_iqr(df['SepalLengthCm']))\n",
    "print('Range Sepal Width (Q1, Q3, IQR) = ', v_iqr(df['SepalWidthCm']))\n",
    "print('Range Petal Length (Q1, Q3, IQR) = ', v_iqr(df['PetalLengthCm']))\n",
    "print('Range Petal Width (Q1, Q3, IQR) = ', v_iqr(df['PetalWidthCm']))"
   ]
  },
  {
   "cell_type": "code",
   "execution_count": 67,
   "id": "8cb80933",
   "metadata": {},
   "outputs": [
    {
     "data": {
      "image/png": "[encoded data removed]",
      "text/plain": [
       "<Figure size 1200x800 with 4 Axes>"
      ]
     },
     "metadata": {},
     "output_type": "display_data"
    }
   ],
   "source": [
    "import matplotlib.pyplot as plt\n",
    "import seaborn as sns\n",
    "plt.figure(figsize=(12, 8))\n",
    "for i, col in enumerate(['SepalLengthCm', 'SepalWidthCm', 'PetalLengthCm', 'PetalWidthCm']):\n",
    "    plt.subplot(2, 2, i+1)\n",
    "    sns.boxplot(x='Species', y=col, data=df)\n",
    "    plt.title(f'{col} per Species')\n",
    "plt.tight_layout()\n",
    "plt.show()\n",
    "# Dapat dilihat bahwa hasil boxplot menunjukkan adanya data outlier (hasil manipulasi)"
   ]
  },
  {
   "cell_type": "code",
   "execution_count": null,
   "id": "f515cb6e",
   "metadata": {},
   "outputs": [
    {
     "name": "stdout",
     "output_type": "stream",
     "text": [
      "      Id  SepalLengthCm  SepalWidthCm  PetalLengthCm  PetalWidthCm  \\\n",
      "150  151           15.0           9.0           12.0           8.0   \n",
      "\n",
      "         Species  \n",
      "150  Iris-setosa  \n"
     ]
    }
   ],
   "source": [
    "# Mencari nilai outlier dari data Septal Length \n",
    "q1, q3, iqr = v_iqr(df['SepalLengthCm'].tolist())\n",
    "\n",
    "lower_bound = q1 - 1.5 * iqr\n",
    "upper_bound = q3 + 1.5 * iqr\n",
    "outliers = df.loc[\n",
    "    (df['SepalLengthCm'] < lower_bound) |\n",
    "    (df['SepalLengthCm'] > upper_bound) ]\n",
    "print(outliers)"
   ]
  },
  {
   "cell_type": "code",
   "execution_count": 71,
   "id": "ba2cfef5",
   "metadata": {},
   "outputs": [
    {
     "data": {
      "application/vnd.microsoft.datawrangler.viewer.v0+json": {
       "columns": [
        {
         "name": "index",
         "rawType": "int64",
         "type": "integer"
        },
        {
         "name": "Id",
         "rawType": "int64",
         "type": "integer"
        },
        {
         "name": "SepalLengthCm",
         "rawType": "float64",
         "type": "float"
        },
        {
         "name": "SepalWidthCm",
         "rawType": "float64",
         "type": "float"
        },
        {
         "name": "PetalLengthCm",
         "rawType": "float64",
         "type": "float"
        },
        {
         "name": "PetalWidthCm",
         "rawType": "float64",
         "type": "float"
        },
        {
         "name": "Species",
         "rawType": "object",
         "type": "string"
        }
       ],
       "ref": "41a320c5-c2ff-46d6-bc2c-88554efbe401",
       "rows": [
        [
         "145",
         "146",
         "6.7",
         "3.0",
         "5.2",
         "2.3",
         "Iris-virginica"
        ],
        [
         "146",
         "147",
         "6.3",
         "2.5",
         "5.0",
         "1.9",
         "Iris-virginica"
        ],
        [
         "147",
         "148",
         "6.5",
         "3.0",
         "5.2",
         "2.0",
         "Iris-virginica"
        ],
        [
         "148",
         "149",
         "6.2",
         "3.4",
         "5.4",
         "2.3",
         "Iris-virginica"
        ],
        [
         "149",
         "150",
         "5.9",
         "3.0",
         "5.1",
         "1.8",
         "Iris-virginica"
        ]
       ],
       "shape": {
        "columns": 6,
        "rows": 5
       }
      },
      "text/html": [
       "<div>\n",
       "<style scoped>\n",
       "    .dataframe tbody tr th:only-of-type {\n",
       "        vertical-align: middle;\n",
       "    }\n",
       "\n",
       "    .dataframe tbody tr th {\n",
       "        vertical-align: top;\n",
       "    }\n",
       "\n",
       "    .dataframe thead th {\n",
       "        text-align: right;\n",
       "    }\n",
       "</style>\n",
       "<table border=\"1\" class=\"dataframe\">\n",
       "  <thead>\n",
       "    <tr style=\"text-align: right;\">\n",
       "      <th></th>\n",
       "      <th>Id</th>\n",
       "      <th>SepalLengthCm</th>\n",
       "      <th>SepalWidthCm</th>\n",
       "      <th>PetalLengthCm</th>\n",
       "      <th>PetalWidthCm</th>\n",
       "      <th>Species</th>\n",
       "    </tr>\n",
       "  </thead>\n",
       "  <tbody>\n",
       "    <tr>\n",
       "      <th>145</th>\n",
       "      <td>146</td>\n",
       "      <td>6.7</td>\n",
       "      <td>3.0</td>\n",
       "      <td>5.2</td>\n",
       "      <td>2.3</td>\n",
       "      <td>Iris-virginica</td>\n",
       "    </tr>\n",
       "    <tr>\n",
       "      <th>146</th>\n",
       "      <td>147</td>\n",
       "      <td>6.3</td>\n",
       "      <td>2.5</td>\n",
       "      <td>5.0</td>\n",
       "      <td>1.9</td>\n",
       "      <td>Iris-virginica</td>\n",
       "    </tr>\n",
       "    <tr>\n",
       "      <th>147</th>\n",
       "      <td>148</td>\n",
       "      <td>6.5</td>\n",
       "      <td>3.0</td>\n",
       "      <td>5.2</td>\n",
       "      <td>2.0</td>\n",
       "      <td>Iris-virginica</td>\n",
       "    </tr>\n",
       "    <tr>\n",
       "      <th>148</th>\n",
       "      <td>149</td>\n",
       "      <td>6.2</td>\n",
       "      <td>3.4</td>\n",
       "      <td>5.4</td>\n",
       "      <td>2.3</td>\n",
       "      <td>Iris-virginica</td>\n",
       "    </tr>\n",
       "    <tr>\n",
       "      <th>149</th>\n",
       "      <td>150</td>\n",
       "      <td>5.9</td>\n",
       "      <td>3.0</td>\n",
       "      <td>5.1</td>\n",
       "      <td>1.8</td>\n",
       "      <td>Iris-virginica</td>\n",
       "    </tr>\n",
       "  </tbody>\n",
       "</table>\n",
       "</div>"
      ],
      "text/plain": [
       "      Id  SepalLengthCm  SepalWidthCm  PetalLengthCm  PetalWidthCm  \\\n",
       "145  146            6.7           3.0            5.2           2.3   \n",
       "146  147            6.3           2.5            5.0           1.9   \n",
       "147  148            6.5           3.0            5.2           2.0   \n",
       "148  149            6.2           3.4            5.4           2.3   \n",
       "149  150            5.9           3.0            5.1           1.8   \n",
       "\n",
       "            Species  \n",
       "145  Iris-virginica  \n",
       "146  Iris-virginica  \n",
       "147  Iris-virginica  \n",
       "148  Iris-virginica  \n",
       "149  Iris-virginica  "
      ]
     },
     "execution_count": 71,
     "metadata": {},
     "output_type": "execute_result"
    }
   ],
   "source": [
    "# Ditemukan data outlier di index 150 sehingga index tersebut dapat di drop\n",
    "df = df.drop(index=150)\n",
    "df.tail()"
   ]
  },
  {
   "cell_type": "code",
   "execution_count": null,
   "id": "342fc1db",
   "metadata": {},
   "outputs": [
    {
     "name": "stdout",
     "output_type": "stream",
     "text": [
      "Mean Sepal Length (cm) =  5.843333333333335\n",
      "Mean Sepal Width (cm) =  3.0540000000000007\n",
      "Mean Petal Length (cm) =  3.7586666666666693\n",
      "Mean Petal Width (cm) =  1.1986666666666672\n"
     ]
    }
   ],
   "source": [
    "# Menghitung Rata-Rata dari setiap feature tanpa data outlier\n",
    "print('Mean Sepal Length (cm) = ', mean(df['SepalLengthCm']))\n",
    "print('Mean Sepal Width (cm) = ', mean(df['SepalWidthCm']))\n",
    "print('Mean Petal Length (cm) = ', mean(df['PetalLengthCm']))\n",
    "print('Mean Petal Width (cm) = ', mean(df['PetalWidthCm']))"
   ]
  },
  {
   "cell_type": "code",
   "execution_count": 74,
   "id": "b105af95",
   "metadata": {},
   "outputs": [
    {
     "name": "stdout",
     "output_type": "stream",
     "text": [
      "Median Sepal Length (cm) =  5.8\n",
      "Median Sepal Width (cm) =  3.0\n",
      "Median Petal Length (cm) =  4.35\n",
      "Median Petal Width (cm) =  1.3\n"
     ]
    }
   ],
   "source": [
    "# Mencari median dari setiap feature tanpa data outlier\n",
    "print('Median Sepal Length (cm) = ', median(df['SepalLengthCm']))\n",
    "print('Median Sepal Width (cm) = ', median(df['SepalWidthCm']))\n",
    "print('Median Petal Length (cm) = ', median(df['PetalLengthCm']))\n",
    "print('Median Petal Width (cm) = ', median(df['PetalWidthCm']))"
   ]
  },
  {
   "cell_type": "code",
   "execution_count": 78,
   "id": "9a83d27f",
   "metadata": {},
   "outputs": [
    {
     "name": "stdout",
     "output_type": "stream",
     "text": [
      "Modus Sepal Length (cm) =  5.0\n",
      "Modus Sepal Width (cm) =  3.0\n",
      "Modus Petal Length (cm) =  1.5\n",
      "Modus Petal Width (cm) =  0.2\n"
     ]
    }
   ],
   "source": [
    "# Mencari modus dari setiap feature tanpa data outlier\n",
    "print('Modus Sepal Length (cm) = ', mode(df['SepalLengthCm']))\n",
    "print('Modus Sepal Width (cm) = ', mode(df['SepalWidthCm']))\n",
    "print('Modus Petal Length (cm) = ', mode(df['PetalLengthCm']))\n",
    "print('Modus Petal Width (cm) = ', mode(df['PetalWidthCm']))"
   ]
  },
  {
   "cell_type": "code",
   "execution_count": 77,
   "id": "5bf99338",
   "metadata": {},
   "outputs": [
    {
     "name": "stdout",
     "output_type": "stream",
     "text": [
      "Variansi Sepal Length (cm) =  0.6811222222222222\n",
      "Variansi Sepal Width (cm) =  0.1867506666666667\n",
      "Variansi Petal Length (cm) =  3.0924248888888854\n",
      "Variansi Petal Width (cm) =  0.5785315555555559\n"
     ]
    }
   ],
   "source": [
    "# Mencari variansi dari setiap feature\n",
    "print('Variansi Sepal Length (cm) = ', variance_population(df['SepalLengthCm']))\n",
    "print('Variansi Sepal Width (cm) = ', variance_population(df['SepalWidthCm']))\n",
    "print('Variansi Petal Length (cm) = ', variance_population(df['PetalLengthCm']))\n",
    "print('Variansi Petal Width (cm) = ', variance_population(df['PetalWidthCm']))"
   ]
  },
  {
   "cell_type": "code",
   "execution_count": 76,
   "id": "ecf24e4a",
   "metadata": {},
   "outputs": [
    {
     "name": "stdout",
     "output_type": "stream",
     "text": [
      "Variansi Sepal Length (cm) =  3.6000000000000005\n",
      "Variansi Sepal Width (cm) =  2.4000000000000004\n",
      "Variansi Petal Length (cm) =  5.9\n",
      "Variansi Petal Width (cm) =  2.4\n"
     ]
    }
   ],
   "source": [
    "# Menghitung nilai peak to peak\n",
    "print('Variansi Sepal Length (cm) = ', ptp(df['SepalLengthCm']))\n",
    "print('Variansi Sepal Width (cm) = ', ptp(df['SepalWidthCm']))\n",
    "print('Variansi Petal Length (cm) = ', ptp(df['PetalLengthCm']))\n",
    "print('Variansi Petal Width (cm) = ', ptp(df['PetalWidthCm']))"
   ]
  },
  {
   "cell_type": "code",
   "execution_count": 75,
   "id": "41e46a5d",
   "metadata": {},
   "outputs": [
    {
     "name": "stdout",
     "output_type": "stream",
     "text": [
      "Range Sepal Length (Q1, Q3, IQR) =  (5.1, 6.4, 1.3000000000000007)\n",
      "Range Sepal Width (Q1, Q3, IQR) =  (2.8, 3.3, 0.5)\n",
      "Range Petal Length (Q1, Q3, IQR) =  (1.5750000000000002, 5.1, 3.5249999999999995)\n",
      "Range Petal Width (Q1, Q3, IQR) =  (0.3, 1.8, 1.5)\n"
     ]
    }
   ],
   "source": [
    "# Menentukan range\n",
    "print('Range Sepal Length (Q1, Q3, IQR) = ', v_iqr(df['SepalLengthCm']))\n",
    "print('Range Sepal Width (Q1, Q3, IQR) = ', v_iqr(df['SepalWidthCm']))\n",
    "print('Range Petal Length (Q1, Q3, IQR) = ', v_iqr(df['PetalLengthCm']))\n",
    "print('Range Petal Width (Q1, Q3, IQR) = ', v_iqr(df['PetalWidthCm']))"
   ]
  }
 ],
 "metadata": {
  "kernelspec": {
   "display_name": "Python 3",
   "language": "python",
   "name": "python3"
  },
  "language_info": {
   "codemirror_mode": {
    "name": "ipython",
    "version": 3
   },
   "file_extension": ".py",
   "mimetype": "text/x-python",
   "name": "python",
   "nbconvert_exporter": "python",
   "pygments_lexer": "ipython3",
   "version": "3.13.2"
  }
 },
 "nbformat": 4,
 "nbformat_minor": 5
}

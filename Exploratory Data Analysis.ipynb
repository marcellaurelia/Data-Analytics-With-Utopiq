{
 "cells": [
  {
   "cell_type": "code",
   "execution_count": 3,
   "metadata": {},
   "outputs": [],
   "source": [
    "# Importing all libraries that needed\n",
    "import numpy as np\n",
    "import pandas as pd\n",
    "import matplotlib.pyplot as plt\n",
    "import seaborn as sns"
   ]
  },
  {
   "cell_type": "code",
   "execution_count": 64,
   "metadata": {},
   "outputs": [],
   "source": [
    "# Read from csv data source\n",
    "customer_data = pd.read_csv('../datasets/customer-data.csv')"
   ]
  },
  {
   "cell_type": "code",
   "execution_count": 65,
   "metadata": {},
   "outputs": [],
   "source": [
    "# Previous data preparation\n",
    "\n",
    "# Input missing values with mean credit score for each income group\n",
    "def input_creditscore(income_classes):\n",
    "    for income_class in income_classes:      \n",
    "        # subset of dataframe to use as filter\n",
    "        filter = customer_data['income'] == income_class\n",
    "        \n",
    "        # calculate the mean for each income group\n",
    "        mean = customer_data[customer_data['income'] == income_class]['credit_score'].mean()\n",
    "        \n",
    "        # input the missing values with mean of credit score for each income group\n",
    "        customer_data.loc[filter,\"credit_score\"] = customer_data.loc[filter,'credit_score'].fillna(mean)\n",
    "\n",
    "income_groups = customer_data['income'].unique()\n",
    "input_creditscore(income_groups)\n",
    "\n",
    "# Delete id and postal_code columns\n",
    "customer_data.drop([\"id\",\"postal_code\"],axis=1,inplace=True)"
   ]
  },
  {
   "cell_type": "code",
   "execution_count": 68,
   "metadata": {},
   "outputs": [],
   "source": [
    "# Filling missing data on annual_mileage column\n",
    "\n",
    "customer_data.groupby(by='driving_experience')['annual_mileage'].mean()\n",
    "mean_mileage = customer_data['annual_mileage'].mean()\n",
    "customer_data['annual_mileage']=customer_data['annual_mileage'].fillna(mean_mileage)"
   ]
  },
  {
   "cell_type": "code",
   "execution_count": 11,
   "metadata": {},
   "outputs": [
    {
     "data": {
      "application/vnd.microsoft.datawrangler.viewer.v0+json": {
       "columns": [
        {
         "name": "index",
         "rawType": "object",
         "type": "string"
        },
        {
         "name": "0",
         "rawType": "int64",
         "type": "integer"
        }
       ],
       "ref": "101815cc-d308-490e-adee-aadbc100199a",
       "rows": [
        [
         "age",
         "0"
        ],
        [
         "gender",
         "0"
        ],
        [
         "race",
         "0"
        ],
        [
         "driving_experience",
         "0"
        ],
        [
         "education",
         "0"
        ],
        [
         "income",
         "0"
        ],
        [
         "credit_score",
         "0"
        ],
        [
         "vehicle_ownership",
         "0"
        ],
        [
         "vehicle_year",
         "0"
        ],
        [
         "married",
         "0"
        ],
        [
         "children",
         "0"
        ],
        [
         "annual_mileage",
         "0"
        ],
        [
         "vehicle_type",
         "0"
        ],
        [
         "speeding_violations",
         "0"
        ],
        [
         "DUIs",
         "0"
        ],
        [
         "past_accidents",
         "0"
        ],
        [
         "outcome",
         "0"
        ]
       ],
       "shape": {
        "columns": 1,
        "rows": 17
       }
      },
      "text/plain": [
       "age                    0\n",
       "gender                 0\n",
       "race                   0\n",
       "driving_experience     0\n",
       "education              0\n",
       "income                 0\n",
       "credit_score           0\n",
       "vehicle_ownership      0\n",
       "vehicle_year           0\n",
       "married                0\n",
       "children               0\n",
       "annual_mileage         0\n",
       "vehicle_type           0\n",
       "speeding_violations    0\n",
       "DUIs                   0\n",
       "past_accidents         0\n",
       "outcome                0\n",
       "dtype: int64"
      ]
     },
     "execution_count": 11,
     "metadata": {},
     "output_type": "execute_result"
    }
   ],
   "source": [
    "customer_data.isna().sum()"
   ]
  },
  {
   "cell_type": "markdown",
   "metadata": {},
   "source": [
    "# Analisis Credit Score dan Claim Rate"
   ]
  },
  {
   "cell_type": "code",
   "execution_count": 16,
   "metadata": {},
   "outputs": [
    {
     "data": {
      "application/vnd.microsoft.datawrangler.viewer.v0+json": {
       "columns": [
        {
         "name": "index",
         "rawType": "int64",
         "type": "integer"
        },
        {
         "name": "age",
         "rawType": "object",
         "type": "string"
        },
        {
         "name": "gender",
         "rawType": "object",
         "type": "string"
        },
        {
         "name": "race",
         "rawType": "object",
         "type": "string"
        },
        {
         "name": "driving_experience",
         "rawType": "object",
         "type": "string"
        },
        {
         "name": "education",
         "rawType": "object",
         "type": "string"
        },
        {
         "name": "income",
         "rawType": "object",
         "type": "string"
        },
        {
         "name": "credit_score",
         "rawType": "float64",
         "type": "float"
        },
        {
         "name": "vehicle_ownership",
         "rawType": "bool",
         "type": "boolean"
        },
        {
         "name": "vehicle_year",
         "rawType": "object",
         "type": "string"
        },
        {
         "name": "married",
         "rawType": "bool",
         "type": "boolean"
        },
        {
         "name": "children",
         "rawType": "bool",
         "type": "boolean"
        },
        {
         "name": "annual_mileage",
         "rawType": "float64",
         "type": "float"
        },
        {
         "name": "vehicle_type",
         "rawType": "object",
         "type": "string"
        },
        {
         "name": "speeding_violations",
         "rawType": "int64",
         "type": "integer"
        },
        {
         "name": "DUIs",
         "rawType": "int64",
         "type": "integer"
        },
        {
         "name": "past_accidents",
         "rawType": "int64",
         "type": "integer"
        },
        {
         "name": "outcome",
         "rawType": "bool",
         "type": "boolean"
        },
        {
         "name": "claim_rate",
         "rawType": "int64",
         "type": "integer"
        }
       ],
       "ref": "e0284ca0-b096-4841-8c70-b6740fb25094",
       "rows": [
        [
         "0",
         "65+",
         "female",
         "majority",
         "0-9y",
         "high school",
         "upper class",
         "0.629027313918201",
         "True",
         "after 2015",
         "False",
         "True",
         "12000.0",
         "sedan",
         "0",
         "0",
         "0",
         "False",
         "0"
        ],
        [
         "1",
         "16-25",
         "male",
         "majority",
         "0-9y",
         "none",
         "poverty",
         "0.3577571170184627",
         "False",
         "before 2015",
         "False",
         "False",
         "16000.0",
         "sedan",
         "0",
         "0",
         "0",
         "True",
         "1"
        ],
        [
         "2",
         "16-25",
         "female",
         "majority",
         "0-9y",
         "high school",
         "working class",
         "0.4931457852181982",
         "True",
         "before 2015",
         "False",
         "False",
         "11000.0",
         "sedan",
         "0",
         "0",
         "0",
         "False",
         "0"
        ],
        [
         "3",
         "16-25",
         "male",
         "majority",
         "0-9y",
         "university",
         "working class",
         "0.2060128507324556",
         "True",
         "before 2015",
         "False",
         "True",
         "11000.0",
         "sedan",
         "0",
         "0",
         "0",
         "False",
         "0"
        ],
        [
         "4",
         "26-39",
         "male",
         "majority",
         "10-19y",
         "none",
         "working class",
         "0.3883658881572184",
         "True",
         "before 2015",
         "False",
         "False",
         "12000.0",
         "sedan",
         "2",
         "0",
         "1",
         "True",
         "1"
        ],
        [
         "5",
         "40-64",
         "female",
         "majority",
         "20-29y",
         "high school",
         "upper class",
         "0.6191273725847388",
         "True",
         "after 2015",
         "False",
         "True",
         "13000.0",
         "sedan",
         "3",
         "0",
         "3",
         "False",
         "0"
        ],
        [
         "6",
         "65+",
         "male",
         "majority",
         "30y+",
         "high school",
         "upper class",
         "0.4929435502195342",
         "False",
         "after 2015",
         "True",
         "True",
         "13000.0",
         "sedan",
         "7",
         "0",
         "3",
         "False",
         "0"
        ],
        [
         "7",
         "26-39",
         "female",
         "majority",
         "0-9y",
         "university",
         "working class",
         "0.4686892974344649",
         "False",
         "after 2015",
         "False",
         "True",
         "14000.0",
         "sedan",
         "0",
         "0",
         "0",
         "True",
         "1"
        ],
        [
         "8",
         "40-64",
         "female",
         "majority",
         "20-29y",
         "university",
         "working class",
         "0.5218149362971065",
         "False",
         "before 2015",
         "True",
         "False",
         "13000.0",
         "sedan",
         "0",
         "0",
         "0",
         "False",
         "0"
        ],
        [
         "9",
         "40-64",
         "female",
         "majority",
         "0-9y",
         "high school",
         "upper class",
         "0.5615310319383646",
         "True",
         "before 2015",
         "False",
         "True",
         "11000.0",
         "sedan",
         "0",
         "0",
         "0",
         "True",
         "1"
        ],
        [
         "10",
         "65+",
         "male",
         "majority",
         "30y+",
         "high school",
         "upper class",
         "0.6203612640126029",
         "True",
         "after 2015",
         "True",
         "True",
         "10000.0",
         "sedan",
         "6",
         "2",
         "7",
         "False",
         "0"
        ],
        [
         "11",
         "65+",
         "female",
         "majority",
         "30y+",
         "high school",
         "upper class",
         "0.7298308815593941",
         "True",
         "after 2015",
         "True",
         "False",
         "12000.0",
         "sedan",
         "4",
         "0",
         "0",
         "False",
         "0"
        ],
        [
         "12",
         "40-64",
         "male",
         "majority",
         "20-29y",
         "high school",
         "upper class",
         "0.6370447435902447",
         "True",
         "before 2015",
         "True",
         "True",
         "8000.0",
         "sedan",
         "4",
         "1",
         "2",
         "False",
         "0"
        ],
        [
         "13",
         "16-25",
         "female",
         "majority",
         "0-9y",
         "university",
         "upper class",
         "0.59125997174597",
         "True",
         "before 2015",
         "False",
         "True",
         "11697.003206900365",
         "sedan",
         "0",
         "0",
         "0",
         "False",
         "0"
        ],
        [
         "14",
         "26-39",
         "male",
         "majority",
         "10-19y",
         "high school",
         "middle class",
         "0.4615679630439447",
         "True",
         "before 2015",
         "True",
         "True",
         "12000.0",
         "sedan",
         "0",
         "2",
         "1",
         "False",
         "0"
        ],
        [
         "15",
         "26-39",
         "female",
         "majority",
         "0-9y",
         "high school",
         "upper class",
         "0.7627979410816134",
         "False",
         "after 2015",
         "True",
         "False",
         "11697.003206900365",
         "sedan",
         "0",
         "0",
         "0",
         "False",
         "0"
        ],
        [
         "16",
         "65+",
         "male",
         "majority",
         "30y+",
         "university",
         "upper class",
         "0.7961748462456987",
         "True",
         "before 2015",
         "True",
         "True",
         "11697.003206900365",
         "sedan",
         "10",
         "2",
         "1",
         "False",
         "0"
        ],
        [
         "17",
         "16-25",
         "male",
         "majority",
         "0-9y",
         "none",
         "poverty",
         "0.34833133094379165",
         "False",
         "before 2015",
         "True",
         "False",
         "12000.0",
         "sedan",
         "0",
         "0",
         "0",
         "True",
         "1"
        ],
        [
         "18",
         "26-39",
         "female",
         "majority",
         "0-9y",
         "university",
         "upper class",
         "0.6805942795073384",
         "True",
         "before 2015",
         "False",
         "True",
         "11697.003206900365",
         "sedan",
         "0",
         "0",
         "0",
         "True",
         "1"
        ],
        [
         "19",
         "16-25",
         "female",
         "majority",
         "0-9y",
         "high school",
         "working class",
         "0.4177139816231188",
         "True",
         "before 2015",
         "False",
         "True",
         "18000.0",
         "sedan",
         "0",
         "0",
         "0",
         "True",
         "1"
        ],
        [
         "20",
         "16-25",
         "female",
         "majority",
         "0-9y",
         "high school",
         "working class",
         "0.4095135306516067",
         "False",
         "before 2015",
         "False",
         "False",
         "17000.0",
         "sedan",
         "0",
         "0",
         "0",
         "True",
         "1"
        ],
        [
         "21",
         "16-25",
         "male",
         "majority",
         "0-9y",
         "high school",
         "middle class",
         "0.5532600531952381",
         "True",
         "after 2015",
         "True",
         "True",
         "8000.0",
         "sedan",
         "0",
         "0",
         "0",
         "True",
         "1"
        ],
        [
         "22",
         "40-64",
         "male",
         "majority",
         "20-29y",
         "none",
         "poverty",
         "0.3309502618581893",
         "True",
         "before 2015",
         "True",
         "True",
         "13000.0",
         "sedan",
         "3",
         "1",
         "1",
         "False",
         "0"
        ],
        [
         "23",
         "16-25",
         "male",
         "majority",
         "0-9y",
         "none",
         "poverty",
         "0.34833133094379165",
         "False",
         "before 2015",
         "False",
         "False",
         "17000.0",
         "sedan",
         "0",
         "0",
         "0",
         "False",
         "0"
        ],
        [
         "24",
         "65+",
         "male",
         "majority",
         "30y+",
         "high school",
         "upper class",
         "0.5006306604427161",
         "True",
         "before 2015",
         "True",
         "True",
         "7000.0",
         "sedan",
         "13",
         "2",
         "3",
         "False",
         "0"
        ],
        [
         "25",
         "26-39",
         "female",
         "majority",
         "10-19y",
         "university",
         "middle class",
         "0.5519701813636283",
         "True",
         "before 2015",
         "True",
         "False",
         "14000.0",
         "sports car",
         "0",
         "0",
         "0",
         "False",
         "0"
        ],
        [
         "26",
         "40-64",
         "male",
         "majority",
         "10-19y",
         "high school",
         "middle class",
         "0.6269960497386653",
         "True",
         "before 2015",
         "False",
         "False",
         "13000.0",
         "sedan",
         "1",
         "1",
         "0",
         "False",
         "0"
        ],
        [
         "27",
         "26-39",
         "male",
         "majority",
         "10-19y",
         "none",
         "poverty",
         "0.2947974807719967",
         "True",
         "before 2015",
         "True",
         "False",
         "15000.0",
         "sedan",
         "0",
         "0",
         "1",
         "False",
         "0"
        ],
        [
         "28",
         "26-39",
         "male",
         "majority",
         "10-19y",
         "university",
         "middle class",
         "0.5519504952618395",
         "False",
         "after 2015",
         "False",
         "False",
         "17000.0",
         "sedan",
         "0",
         "0",
         "1",
         "False",
         "0"
        ],
        [
         "29",
         "65+",
         "male",
         "majority",
         "0-9y",
         "university",
         "upper class",
         "0.649820471216227",
         "True",
         "after 2015",
         "True",
         "True",
         "9000.0",
         "sedan",
         "0",
         "0",
         "0",
         "True",
         "1"
        ],
        [
         "30",
         "40-64",
         "male",
         "majority",
         "20-29y",
         "high school",
         "middle class",
         "0.5218044346397632",
         "True",
         "after 2015",
         "True",
         "True",
         "7000.0",
         "sedan",
         "2",
         "0",
         "1",
         "False",
         "0"
        ],
        [
         "31",
         "65+",
         "female",
         "majority",
         "30y+",
         "university",
         "upper class",
         "0.7012683240604196",
         "True",
         "before 2015",
         "True",
         "True",
         "10000.0",
         "sedan",
         "3",
         "1",
         "1",
         "False",
         "0"
        ],
        [
         "32",
         "16-25",
         "male",
         "majority",
         "0-9y",
         "none",
         "poverty",
         "0.1712440288213211",
         "True",
         "before 2015",
         "True",
         "True",
         "9000.0",
         "sedan",
         "0",
         "0",
         "0",
         "False",
         "0"
        ],
        [
         "33",
         "16-25",
         "male",
         "majority",
         "0-9y",
         "none",
         "poverty",
         "0.3184419972124171",
         "True",
         "before 2015",
         "False",
         "True",
         "10000.0",
         "sedan",
         "0",
         "0",
         "0",
         "True",
         "1"
        ],
        [
         "34",
         "26-39",
         "female",
         "majority",
         "0-9y",
         "high school",
         "middle class",
         "0.6046842696715551",
         "True",
         "before 2015",
         "True",
         "True",
         "11000.0",
         "sedan",
         "0",
         "0",
         "0",
         "True",
         "1"
        ],
        [
         "35",
         "16-25",
         "male",
         "majority",
         "0-9y",
         "university",
         "working class",
         "0.5049948526440377",
         "False",
         "after 2015",
         "False",
         "False",
         "8000.0",
         "sedan",
         "0",
         "0",
         "0",
         "True",
         "1"
        ],
        [
         "36",
         "26-39",
         "male",
         "majority",
         "10-19y",
         "high school",
         "working class",
         "0.6251466352816216",
         "True",
         "before 2015",
         "False",
         "True",
         "17000.0",
         "sedan",
         "3",
         "0",
         "2",
         "False",
         "0"
        ],
        [
         "37",
         "40-64",
         "female",
         "majority",
         "10-19y",
         "none",
         "middle class",
         "0.5236585383213972",
         "True",
         "before 2015",
         "True",
         "True",
         "11000.0",
         "sedan",
         "2",
         "0",
         "1",
         "False",
         "0"
        ],
        [
         "38",
         "65+",
         "male",
         "majority",
         "30y+",
         "university",
         "upper class",
         "0.613826977680088",
         "False",
         "after 2015",
         "False",
         "True",
         "12000.0",
         "sports car",
         "6",
         "0",
         "5",
         "False",
         "0"
        ],
        [
         "39",
         "40-64",
         "male",
         "majority",
         "10-19y",
         "university",
         "upper class",
         "0.5781305873212035",
         "True",
         "before 2015",
         "False",
         "True",
         "14000.0",
         "sedan",
         "1",
         "0",
         "1",
         "False",
         "0"
        ],
        [
         "40",
         "65+",
         "male",
         "majority",
         "30y+",
         "high school",
         "upper class",
         "0.7054542902137054",
         "True",
         "before 2015",
         "True",
         "True",
         "10000.0",
         "sedan",
         "5",
         "1",
         "3",
         "False",
         "0"
        ],
        [
         "41",
         "40-64",
         "male",
         "majority",
         "20-29y",
         "university",
         "upper class",
         "0.6595254905875941",
         "True",
         "after 2015",
         "False",
         "True",
         "16000.0",
         "sedan",
         "4",
         "0",
         "2",
         "False",
         "0"
        ],
        [
         "42",
         "40-64",
         "male",
         "majority",
         "20-29y",
         "university",
         "upper class",
         "0.5873836120460223",
         "False",
         "after 2015",
         "True",
         "True",
         "9000.0",
         "sedan",
         "10",
         "2",
         "0",
         "False",
         "0"
        ],
        [
         "43",
         "16-25",
         "male",
         "majority",
         "0-9y",
         "none",
         "poverty",
         "0.4064824253974476",
         "False",
         "before 2015",
         "False",
         "False",
         "16000.0",
         "sedan",
         "0",
         "0",
         "0",
         "True",
         "1"
        ],
        [
         "44",
         "26-39",
         "female",
         "majority",
         "10-19y",
         "high school",
         "poverty",
         "0.2857471319596469",
         "False",
         "before 2015",
         "False",
         "True",
         "13000.0",
         "sedan",
         "1",
         "0",
         "0",
         "True",
         "1"
        ],
        [
         "45",
         "40-64",
         "male",
         "majority",
         "20-29y",
         "high school",
         "middle class",
         "0.5022849652731057",
         "False",
         "before 2015",
         "False",
         "False",
         "14000.0",
         "sports car",
         "3",
         "0",
         "4",
         "False",
         "0"
        ],
        [
         "46",
         "65+",
         "male",
         "majority",
         "20-29y",
         "high school",
         "upper class",
         "0.6256257210210231",
         "True",
         "after 2015",
         "True",
         "True",
         "7000.0",
         "sedan",
         "7",
         "0",
         "5",
         "False",
         "0"
        ],
        [
         "47",
         "40-64",
         "female",
         "majority",
         "20-29y",
         "university",
         "upper class",
         "0.613826977680088",
         "True",
         "after 2015",
         "True",
         "True",
         "11000.0",
         "sedan",
         "3",
         "0",
         "2",
         "False",
         "0"
        ],
        [
         "48",
         "26-39",
         "female",
         "minority",
         "10-19y",
         "university",
         "working class",
         "0.3931531299744003",
         "True",
         "before 2015",
         "False",
         "True",
         "12000.0",
         "sedan",
         "1",
         "0",
         "0",
         "False",
         "0"
        ],
        [
         "49",
         "26-39",
         "female",
         "minority",
         "10-19y",
         "none",
         "working class",
         "0.5039497598168121",
         "False",
         "before 2015",
         "False",
         "True",
         "14000.0",
         "sedan",
         "1",
         "0",
         "0",
         "False",
         "0"
        ]
       ],
       "shape": {
        "columns": 18,
        "rows": 10000
       }
      },
      "text/html": [
       "<div>\n",
       "<style scoped>\n",
       "    .dataframe tbody tr th:only-of-type {\n",
       "        vertical-align: middle;\n",
       "    }\n",
       "\n",
       "    .dataframe tbody tr th {\n",
       "        vertical-align: top;\n",
       "    }\n",
       "\n",
       "    .dataframe thead th {\n",
       "        text-align: right;\n",
       "    }\n",
       "</style>\n",
       "<table border=\"1\" class=\"dataframe\">\n",
       "  <thead>\n",
       "    <tr style=\"text-align: right;\">\n",
       "      <th></th>\n",
       "      <th>age</th>\n",
       "      <th>gender</th>\n",
       "      <th>race</th>\n",
       "      <th>driving_experience</th>\n",
       "      <th>education</th>\n",
       "      <th>income</th>\n",
       "      <th>credit_score</th>\n",
       "      <th>vehicle_ownership</th>\n",
       "      <th>vehicle_year</th>\n",
       "      <th>married</th>\n",
       "      <th>children</th>\n",
       "      <th>annual_mileage</th>\n",
       "      <th>vehicle_type</th>\n",
       "      <th>speeding_violations</th>\n",
       "      <th>DUIs</th>\n",
       "      <th>past_accidents</th>\n",
       "      <th>outcome</th>\n",
       "      <th>claim_rate</th>\n",
       "    </tr>\n",
       "  </thead>\n",
       "  <tbody>\n",
       "    <tr>\n",
       "      <th>0</th>\n",
       "      <td>65+</td>\n",
       "      <td>female</td>\n",
       "      <td>majority</td>\n",
       "      <td>0-9y</td>\n",
       "      <td>high school</td>\n",
       "      <td>upper class</td>\n",
       "      <td>0.629027</td>\n",
       "      <td>True</td>\n",
       "      <td>after 2015</td>\n",
       "      <td>False</td>\n",
       "      <td>True</td>\n",
       "      <td>12000.000000</td>\n",
       "      <td>sedan</td>\n",
       "      <td>0</td>\n",
       "      <td>0</td>\n",
       "      <td>0</td>\n",
       "      <td>False</td>\n",
       "      <td>0</td>\n",
       "    </tr>\n",
       "    <tr>\n",
       "      <th>1</th>\n",
       "      <td>16-25</td>\n",
       "      <td>male</td>\n",
       "      <td>majority</td>\n",
       "      <td>0-9y</td>\n",
       "      <td>none</td>\n",
       "      <td>poverty</td>\n",
       "      <td>0.357757</td>\n",
       "      <td>False</td>\n",
       "      <td>before 2015</td>\n",
       "      <td>False</td>\n",
       "      <td>False</td>\n",
       "      <td>16000.000000</td>\n",
       "      <td>sedan</td>\n",
       "      <td>0</td>\n",
       "      <td>0</td>\n",
       "      <td>0</td>\n",
       "      <td>True</td>\n",
       "      <td>1</td>\n",
       "    </tr>\n",
       "    <tr>\n",
       "      <th>2</th>\n",
       "      <td>16-25</td>\n",
       "      <td>female</td>\n",
       "      <td>majority</td>\n",
       "      <td>0-9y</td>\n",
       "      <td>high school</td>\n",
       "      <td>working class</td>\n",
       "      <td>0.493146</td>\n",
       "      <td>True</td>\n",
       "      <td>before 2015</td>\n",
       "      <td>False</td>\n",
       "      <td>False</td>\n",
       "      <td>11000.000000</td>\n",
       "      <td>sedan</td>\n",
       "      <td>0</td>\n",
       "      <td>0</td>\n",
       "      <td>0</td>\n",
       "      <td>False</td>\n",
       "      <td>0</td>\n",
       "    </tr>\n",
       "    <tr>\n",
       "      <th>3</th>\n",
       "      <td>16-25</td>\n",
       "      <td>male</td>\n",
       "      <td>majority</td>\n",
       "      <td>0-9y</td>\n",
       "      <td>university</td>\n",
       "      <td>working class</td>\n",
       "      <td>0.206013</td>\n",
       "      <td>True</td>\n",
       "      <td>before 2015</td>\n",
       "      <td>False</td>\n",
       "      <td>True</td>\n",
       "      <td>11000.000000</td>\n",
       "      <td>sedan</td>\n",
       "      <td>0</td>\n",
       "      <td>0</td>\n",
       "      <td>0</td>\n",
       "      <td>False</td>\n",
       "      <td>0</td>\n",
       "    </tr>\n",
       "    <tr>\n",
       "      <th>4</th>\n",
       "      <td>26-39</td>\n",
       "      <td>male</td>\n",
       "      <td>majority</td>\n",
       "      <td>10-19y</td>\n",
       "      <td>none</td>\n",
       "      <td>working class</td>\n",
       "      <td>0.388366</td>\n",
       "      <td>True</td>\n",
       "      <td>before 2015</td>\n",
       "      <td>False</td>\n",
       "      <td>False</td>\n",
       "      <td>12000.000000</td>\n",
       "      <td>sedan</td>\n",
       "      <td>2</td>\n",
       "      <td>0</td>\n",
       "      <td>1</td>\n",
       "      <td>True</td>\n",
       "      <td>1</td>\n",
       "    </tr>\n",
       "    <tr>\n",
       "      <th>...</th>\n",
       "      <td>...</td>\n",
       "      <td>...</td>\n",
       "      <td>...</td>\n",
       "      <td>...</td>\n",
       "      <td>...</td>\n",
       "      <td>...</td>\n",
       "      <td>...</td>\n",
       "      <td>...</td>\n",
       "      <td>...</td>\n",
       "      <td>...</td>\n",
       "      <td>...</td>\n",
       "      <td>...</td>\n",
       "      <td>...</td>\n",
       "      <td>...</td>\n",
       "      <td>...</td>\n",
       "      <td>...</td>\n",
       "      <td>...</td>\n",
       "      <td>...</td>\n",
       "    </tr>\n",
       "    <tr>\n",
       "      <th>9995</th>\n",
       "      <td>26-39</td>\n",
       "      <td>female</td>\n",
       "      <td>majority</td>\n",
       "      <td>10-19y</td>\n",
       "      <td>university</td>\n",
       "      <td>upper class</td>\n",
       "      <td>0.582787</td>\n",
       "      <td>True</td>\n",
       "      <td>before 2015</td>\n",
       "      <td>False</td>\n",
       "      <td>False</td>\n",
       "      <td>16000.000000</td>\n",
       "      <td>sedan</td>\n",
       "      <td>0</td>\n",
       "      <td>0</td>\n",
       "      <td>1</td>\n",
       "      <td>False</td>\n",
       "      <td>0</td>\n",
       "    </tr>\n",
       "    <tr>\n",
       "      <th>9996</th>\n",
       "      <td>26-39</td>\n",
       "      <td>female</td>\n",
       "      <td>majority</td>\n",
       "      <td>10-19y</td>\n",
       "      <td>none</td>\n",
       "      <td>middle class</td>\n",
       "      <td>0.522231</td>\n",
       "      <td>True</td>\n",
       "      <td>after 2015</td>\n",
       "      <td>False</td>\n",
       "      <td>True</td>\n",
       "      <td>11697.003207</td>\n",
       "      <td>sedan</td>\n",
       "      <td>1</td>\n",
       "      <td>0</td>\n",
       "      <td>0</td>\n",
       "      <td>False</td>\n",
       "      <td>0</td>\n",
       "    </tr>\n",
       "    <tr>\n",
       "      <th>9997</th>\n",
       "      <td>26-39</td>\n",
       "      <td>male</td>\n",
       "      <td>majority</td>\n",
       "      <td>0-9y</td>\n",
       "      <td>high school</td>\n",
       "      <td>middle class</td>\n",
       "      <td>0.470940</td>\n",
       "      <td>True</td>\n",
       "      <td>before 2015</td>\n",
       "      <td>False</td>\n",
       "      <td>True</td>\n",
       "      <td>14000.000000</td>\n",
       "      <td>sedan</td>\n",
       "      <td>0</td>\n",
       "      <td>0</td>\n",
       "      <td>0</td>\n",
       "      <td>False</td>\n",
       "      <td>0</td>\n",
       "    </tr>\n",
       "    <tr>\n",
       "      <th>9998</th>\n",
       "      <td>26-39</td>\n",
       "      <td>female</td>\n",
       "      <td>majority</td>\n",
       "      <td>10-19y</td>\n",
       "      <td>high school</td>\n",
       "      <td>poverty</td>\n",
       "      <td>0.364185</td>\n",
       "      <td>False</td>\n",
       "      <td>before 2015</td>\n",
       "      <td>False</td>\n",
       "      <td>True</td>\n",
       "      <td>13000.000000</td>\n",
       "      <td>sedan</td>\n",
       "      <td>2</td>\n",
       "      <td>0</td>\n",
       "      <td>1</td>\n",
       "      <td>True</td>\n",
       "      <td>1</td>\n",
       "    </tr>\n",
       "    <tr>\n",
       "      <th>9999</th>\n",
       "      <td>26-39</td>\n",
       "      <td>female</td>\n",
       "      <td>majority</td>\n",
       "      <td>0-9y</td>\n",
       "      <td>none</td>\n",
       "      <td>working class</td>\n",
       "      <td>0.435225</td>\n",
       "      <td>True</td>\n",
       "      <td>before 2015</td>\n",
       "      <td>True</td>\n",
       "      <td>True</td>\n",
       "      <td>13000.000000</td>\n",
       "      <td>sedan</td>\n",
       "      <td>0</td>\n",
       "      <td>0</td>\n",
       "      <td>0</td>\n",
       "      <td>False</td>\n",
       "      <td>0</td>\n",
       "    </tr>\n",
       "  </tbody>\n",
       "</table>\n",
       "<p>10000 rows × 18 columns</p>\n",
       "</div>"
      ],
      "text/plain": [
       "        age  gender      race driving_experience    education         income  \\\n",
       "0       65+  female  majority               0-9y  high school    upper class   \n",
       "1     16-25    male  majority               0-9y         none        poverty   \n",
       "2     16-25  female  majority               0-9y  high school  working class   \n",
       "3     16-25    male  majority               0-9y   university  working class   \n",
       "4     26-39    male  majority             10-19y         none  working class   \n",
       "...     ...     ...       ...                ...          ...            ...   \n",
       "9995  26-39  female  majority             10-19y   university    upper class   \n",
       "9996  26-39  female  majority             10-19y         none   middle class   \n",
       "9997  26-39    male  majority               0-9y  high school   middle class   \n",
       "9998  26-39  female  majority             10-19y  high school        poverty   \n",
       "9999  26-39  female  majority               0-9y         none  working class   \n",
       "\n",
       "      credit_score  vehicle_ownership vehicle_year  married  children  \\\n",
       "0         0.629027               True   after 2015    False      True   \n",
       "1         0.357757              False  before 2015    False     False   \n",
       "2         0.493146               True  before 2015    False     False   \n",
       "3         0.206013               True  before 2015    False      True   \n",
       "4         0.388366               True  before 2015    False     False   \n",
       "...            ...                ...          ...      ...       ...   \n",
       "9995      0.582787               True  before 2015    False     False   \n",
       "9996      0.522231               True   after 2015    False      True   \n",
       "9997      0.470940               True  before 2015    False      True   \n",
       "9998      0.364185              False  before 2015    False      True   \n",
       "9999      0.435225               True  before 2015     True      True   \n",
       "\n",
       "      annual_mileage vehicle_type  speeding_violations  DUIs  past_accidents  \\\n",
       "0       12000.000000        sedan                    0     0               0   \n",
       "1       16000.000000        sedan                    0     0               0   \n",
       "2       11000.000000        sedan                    0     0               0   \n",
       "3       11000.000000        sedan                    0     0               0   \n",
       "4       12000.000000        sedan                    2     0               1   \n",
       "...              ...          ...                  ...   ...             ...   \n",
       "9995    16000.000000        sedan                    0     0               1   \n",
       "9996    11697.003207        sedan                    1     0               0   \n",
       "9997    14000.000000        sedan                    0     0               0   \n",
       "9998    13000.000000        sedan                    2     0               1   \n",
       "9999    13000.000000        sedan                    0     0               0   \n",
       "\n",
       "      outcome  claim_rate  \n",
       "0       False           0  \n",
       "1        True           1  \n",
       "2       False           0  \n",
       "3       False           0  \n",
       "4        True           1  \n",
       "...       ...         ...  \n",
       "9995    False           0  \n",
       "9996    False           0  \n",
       "9997    False           0  \n",
       "9998     True           1  \n",
       "9999    False           0  \n",
       "\n",
       "[10000 rows x 18 columns]"
      ]
     },
     "execution_count": 16,
     "metadata": {},
     "output_type": "execute_result"
    }
   ],
   "source": [
    "customer_data"
   ]
  },
  {
   "cell_type": "markdown",
   "metadata": {},
   "source": [
    "Analisis hubungan antara credit score dan income group"
   ]
  },
  {
   "cell_type": "code",
   "execution_count": 69,
   "metadata": {},
   "outputs": [
    {
     "name": "stderr",
     "output_type": "stream",
     "text": [
      "C:\\Users\\71477\\AppData\\Local\\Temp\\ipykernel_30644\\3167409385.py:6: FutureWarning: \n",
      "\n",
      "Passing `palette` without assigning `hue` is deprecated and will be removed in v0.14.0. Assign the `x` variable to `hue` and set `legend=False` for the same effect.\n",
      "\n",
      "  sns.barplot(data=score_avg, x='income', y='credit_score', palette='viridis')\n"
     ]
    },
    {
     "data": {
      "image/png": "[encoded data removed]",
      "text/plain": [
       "<Figure size 800x500 with 1 Axes>"
      ]
     },
     "metadata": {},
     "output_type": "display_data"
    }
   ],
   "source": [
    "# Hitung rata-rata credit score per income\n",
    "score_avg = customer_data.groupby('income')['credit_score'].mean().reset_index()\n",
    "\n",
    "# Visualisasi bar plot\n",
    "plt.figure(figsize=(8, 5))\n",
    "sns.barplot(data=score_avg, x='income', y='credit_score', palette='viridis')\n",
    "plt.title('Rata-rata Credit Score per Income Group')\n",
    "plt.xlabel('Income')\n",
    "plt.ylabel('Rata-rata Credit Score')\n",
    "plt.ylim(0, 1)\n",
    "plt.tight_layout()\n",
    "plt.show()"
   ]
  },
  {
   "cell_type": "code",
   "execution_count": 70,
   "metadata": {},
   "outputs": [
    {
     "data": {
      "image/png": "[encoded data removed]",
      "text/plain": [
       "<Figure size 800x500 with 1 Axes>"
      ]
     },
     "metadata": {},
     "output_type": "display_data"
    }
   ],
   "source": [
    "plt.figure(figsize=(8, 5))\n",
    "sns.histplot(data=customer_data,\n",
    "             x='income',\n",
    "             hue='outcome',\n",
    "             stat='probability',\n",
    "             multiple='fill',\n",
    "             shrink=0.8,\n",
    "             alpha=0.7,\n",
    "             palette='Set2')\n",
    "\n",
    "plt.title('Claim Rate by Income Group')\n",
    "plt.xlabel('Income')\n",
    "plt.ylabel('Proportion of Claims')\n",
    "plt.tight_layout()\n",
    "plt.show()"
   ]
  },
  {
   "cell_type": "markdown",
   "metadata": {},
   "source": [
    "Berdasarkan data berikut, claim rate tertinggi ada di kelas income POVERTY"
   ]
  },
  {
   "cell_type": "markdown",
   "metadata": {},
   "source": [
    "##### Pengelompokkan Claim Rate"
   ]
  },
  {
   "cell_type": "markdown",
   "metadata": {},
   "source": [
    "| Range        | Kategori |\n",
    "| ------------ | -------- |\n",
    "| 0.00 – 0.40  | Low      |\n",
    "| >0.40 – 0.70 | Medium   |\n",
    "| >0.70 – 1.00 | High     |\n"
   ]
  },
  {
   "cell_type": "code",
   "execution_count": 71,
   "metadata": {},
   "outputs": [
    {
     "name": "stderr",
     "output_type": "stream",
     "text": [
      "C:\\Users\\71477\\AppData\\Local\\Temp\\ipykernel_30644\\2116093129.py:10: FutureWarning: The default of observed=False is deprecated and will be changed to True in a future version of pandas. Pass observed=False to retain current behavior or observed=True to adopt the future default and silence this warning.\n",
      "  credit_claim_rate = customer_data.groupby('score_bin')['outcome'].mean().reset_index()\n",
      "C:\\Users\\71477\\AppData\\Local\\Temp\\ipykernel_30644\\2116093129.py:14: FutureWarning: \n",
      "\n",
      "Passing `palette` without assigning `hue` is deprecated and will be removed in v0.14.0. Assign the `x` variable to `hue` and set `legend=False` for the same effect.\n",
      "\n",
      "  sns.barplot(x='score_bin', y='outcome', data=credit_claim_rate, palette='Blues')\n"
     ]
    },
    {
     "data": {
      "image/png": "[encoded data removed]",
      "text/plain": [
       "<Figure size 800x500 with 1 Axes>"
      ]
     },
     "metadata": {},
     "output_type": "display_data"
    }
   ],
   "source": [
    "# Buat kategori credit score\n",
    "# Definisikan batas bin dan label\n",
    "bins = [0.0, 0.4, 0.7, 1.0]\n",
    "labels = ['Low', 'Medium', 'High']\n",
    "\n",
    "customer_data['score_bin'] = pd.cut(customer_data['credit_score'], bins=bins,\n",
    "                                     labels=labels)\n",
    "\n",
    "# Hitung claim rate per bin\n",
    "credit_claim_rate = customer_data.groupby('score_bin')['outcome'].mean().reset_index()\n",
    "\n",
    "# Visualisasikan\n",
    "plt.figure(figsize=(8, 5))\n",
    "sns.barplot(x='score_bin', y='outcome', data=credit_claim_rate, palette='Blues')\n",
    "plt.title('Claim Rate by Credit Score Category')\n",
    "plt.xlabel('Credit Score Category')\n",
    "plt.ylabel('Claim Rate')\n",
    "plt.ylim(0, 1)\n",
    "plt.tight_layout()\n",
    "plt.show()"
   ]
  },
  {
   "cell_type": "markdown",
   "metadata": {},
   "source": [
    "##### Korelasi antara kredit score dan claim rate negatif"
   ]
  },
  {
   "cell_type": "code",
   "execution_count": 72,
   "metadata": {},
   "outputs": [
    {
     "name": "stdout",
     "output_type": "stream",
     "text": [
      "Korelasi antara credit score dan klaim: -0.33\n"
     ]
    }
   ],
   "source": [
    "correlation = customer_data['credit_score'].corr(customer_data['outcome'])\n",
    "print(f\"Korelasi antara credit score dan klaim: {correlation:.2f}\")\n",
    "#Korelasi negatif = Semakin rendah credit score → semakin tinggi kemungkinan klaim."
   ]
  },
  {
   "cell_type": "markdown",
   "metadata": {},
   "source": [
    "##### Analisis hubungan total violation dengan credit score"
   ]
  },
  {
   "cell_type": "code",
   "execution_count": 81,
   "metadata": {},
   "outputs": [
    {
     "name": "stderr",
     "output_type": "stream",
     "text": [
      "C:\\Users\\71477\\AppData\\Local\\Temp\\ipykernel_30644\\110993552.py:9: FutureWarning: \n",
      "\n",
      "The `ci` parameter is deprecated. Use `errorbar=None` for the same effect.\n",
      "\n",
      "  sns.barplot(data=customer_data, x='score_bin', y='total_violation', estimator='mean', ci=None, palette='viridis')\n",
      "C:\\Users\\71477\\AppData\\Local\\Temp\\ipykernel_30644\\110993552.py:9: FutureWarning: \n",
      "\n",
      "Passing `palette` without assigning `hue` is deprecated and will be removed in v0.14.0. Assign the `x` variable to `hue` and set `legend=False` for the same effect.\n",
      "\n",
      "  sns.barplot(data=customer_data, x='score_bin', y='total_violation', estimator='mean', ci=None, palette='viridis')\n"
     ]
    },
    {
     "data": {
      "image/png": "[encoded data removed]",
      "text/plain": [
       "<Figure size 800x500 with 1 Axes>"
      ]
     },
     "metadata": {},
     "output_type": "display_data"
    }
   ],
   "source": [
    "customer_data['total_violation'] = (\n",
    "    customer_data['speeding_violations'] +\n",
    "    customer_data['DUIs'] +\n",
    "    customer_data['past_accidents']\n",
    ")\n",
    "\n",
    "\n",
    "plt.figure(figsize=(8,5))\n",
    "sns.barplot(data=customer_data, x='score_bin', y='total_violation', estimator='mean', ci=None, palette='viridis')\n",
    "plt.title('Rata-rata Total Violation per Income Class')\n",
    "plt.ylabel('Rata-rata Total Violation')\n",
    "plt.xlabel('Income Class')\n",
    "plt.xticks(rotation=45)\n",
    "plt.tight_layout()\n",
    "plt.show()"
   ]
  },
  {
   "cell_type": "markdown",
   "metadata": {},
   "source": [
    "##### Analisis hubungan antara credit score LOW dengan vehicle year"
   ]
  },
  {
   "cell_type": "code",
   "execution_count": 74,
   "metadata": {},
   "outputs": [
    {
     "data": {
      "image/png": "[encoded data removed]",
      "text/plain": [
       "<Figure size 600x600 with 1 Axes>"
      ]
     },
     "metadata": {},
     "output_type": "display_data"
    },
    {
     "name": "stdout",
     "output_type": "stream",
     "text": [
      "(2132, 18)\n",
      "vehicle_year\n",
      "before 2015    1889\n",
      "after 2015      243\n",
      "Name: count, dtype: int64\n"
     ]
    }
   ],
   "source": [
    "bins = [0, 0.4, 0.7, 1.0]\n",
    "labels = ['low', 'medium', 'high']\n",
    "customer_data['score_bin'] = pd.cut(customer_data['credit_score'], bins=bins, labels=labels)\n",
    "# Filter hanya credit score group 'low'\n",
    "low_score_group = customer_data[customer_data['score_bin'] == 'low']\n",
    "\n",
    "# Hitung jumlah masing-masing vehicle_year dalam kelompok ini\n",
    "vehicle_year_counts = low_score_group['vehicle_year'].value_counts()\n",
    "\n",
    "# Buat pie chart\n",
    "plt.figure(figsize=(6,6))\n",
    "plt.pie(vehicle_year_counts, labels=vehicle_year_counts.index, autopct='%1.1f%%', startangle=140, colors=['#ff9999','#66b3ff'])\n",
    "plt.title('Distribusi Vehicle Year pada Credit Score Rendah')\n",
    "plt.axis('equal')  # Supaya bentuknya lingkaran sempurna\n",
    "plt.show()\n",
    "print(low_score_group.shape)\n",
    "print(low_score_group['vehicle_year'].value_counts())"
   ]
  },
  {
   "cell_type": "markdown",
   "metadata": {},
   "source": [
    "##### Analisis credit score LOW dengan driving experience"
   ]
  },
  {
   "cell_type": "code",
   "execution_count": 75,
   "metadata": {},
   "outputs": [
    {
     "name": "stdout",
     "output_type": "stream",
     "text": [
      "col_0               count\n",
      "driving_experience       \n",
      "0-9y                 1261\n",
      "10-19y                675\n",
      "20-29y                166\n",
      "30y+                   30\n"
     ]
    }
   ],
   "source": [
    "ct = pd.crosstab(index=low_score_group['driving_experience'], columns='count')\n",
    "print(ct)"
   ]
  },
  {
   "cell_type": "code",
   "execution_count": null,
   "metadata": {},
   "outputs": [
    {
     "name": "stderr",
     "output_type": "stream",
     "text": [
      "C:\\Users\\71477\\AppData\\Local\\Temp\\ipykernel_30644\\206242025.py:6: FutureWarning: \n",
      "\n",
      "Passing `palette` without assigning `hue` is deprecated and will be removed in v0.14.0. Assign the `x` variable to `hue` and set `legend=False` for the same effect.\n",
      "\n",
      "  sns.barplot(x=driving_exp_counts.index, y=driving_exp_counts.values, palette='Set2')\n"
     ]
    },
    {
     "data": {
      "image/png": "[encoded data removed]",
      "text/plain": [
       "<Figure size 800x500 with 1 Axes>"
      ]
     },
     "metadata": {},
     "output_type": "display_data"
    }
   ],
   "source": [
    "# Hitung jumlah driving_experience dalam low score group\n",
    "driving_exp_counts = low_score_group['driving_experience'].value_counts().sort_index()\n",
    "\n",
    "# Plot\n",
    "plt.figure(figsize=(8,5))\n",
    "sns.barplot(x=driving_exp_counts.index, y=driving_exp_counts.values, palette='Set2')\n",
    "plt.title('Distribusi Driving Experience pada Claim Rate Tinggi')\n",
    "plt.xlabel('Driving Experience')\n",
    "plt.ylabel('Jumlah')\n",
    "plt.xticks(rotation=15)\n",
    "plt.tight_layout()\n",
    "plt.show()"
   ]
  },
  {
   "cell_type": "markdown",
   "metadata": {},
   "source": [
    "##### Distribusi driving experience pada credit score LOW dengan vehicle year before 2015"
   ]
  },
  {
   "cell_type": "code",
   "execution_count": 94,
   "metadata": {},
   "outputs": [
    {
     "data": {
      "image/png": "[encoded data removed]",
      "text/plain": [
       "<Figure size 600x400 with 2 Axes>"
      ]
     },
     "metadata": {},
     "output_type": "display_data"
    }
   ],
   "source": [
    "import matplotlib.pyplot as plt\n",
    "import seaborn as sns\n",
    "import pandas as pd\n",
    "\n",
    "# Filter data: hanya credit score rendah\n",
    "low_score_data = customer_data[customer_data['score_bin'] == 'low']\n",
    "\n",
    "# Crosstab antara driving_experience dan vehicle_year\n",
    "heatmap_data = pd.crosstab(\n",
    "    index=low_score_data['driving_experience'],\n",
    "    columns=low_score_data['vehicle_year']\n",
    ")\n",
    "\n",
    "# Plot heatmap\n",
    "plt.figure(figsize=(6,4))\n",
    "sns.heatmap(heatmap_data, annot=True, fmt='d', cmap='YlGnBu')\n",
    "plt.title('Heatmap: Driving Experience vs Vehicle Year\\n(Credit Score Rendah)')\n",
    "plt.xlabel('Vehicle Year')\n",
    "plt.ylabel('Driving Experience')\n",
    "plt.tight_layout()\n",
    "plt.show()\n"
   ]
  },
  {
   "cell_type": "code",
   "execution_count": 77,
   "metadata": {},
   "outputs": [
    {
     "name": "stderr",
     "output_type": "stream",
     "text": [
      "C:\\Users\\71477\\AppData\\Local\\Temp\\ipykernel_30644\\449513704.py:15: FutureWarning: \n",
      "\n",
      "Passing `palette` without assigning `hue` is deprecated and will be removed in v0.14.0. Assign the `x` variable to `hue` and set `legend=False` for the same effect.\n",
      "\n",
      "  sns.barplot(x=driving_exp_counts.index, y=driving_exp_counts.values, palette='Set3')\n"
     ]
    },
    {
     "data": {
      "image/png": "[encoded data removed]",
      "text/plain": [
       "<Figure size 800x500 with 1 Axes>"
      ]
     },
     "metadata": {},
     "output_type": "display_data"
    }
   ],
   "source": [
    "import matplotlib.pyplot as plt\n",
    "import seaborn as sns\n",
    "\n",
    "# Filter data untuk group dengan score rendah dan vehicle sebelum 2015\n",
    "filtered_data = customer_data[\n",
    "    (customer_data['score_bin'] == 'low') &\n",
    "    (customer_data['vehicle_year'] == 'before 2015')\n",
    "]\n",
    "\n",
    "# Hitung frekuensi driving experience\n",
    "driving_exp_counts = filtered_data['driving_experience'].value_counts().sort_index()\n",
    "\n",
    "# Visualisasi bar chart\n",
    "plt.figure(figsize=(8,5))\n",
    "sns.barplot(x=driving_exp_counts.index, y=driving_exp_counts.values, palette='Set3')\n",
    "plt.title('Driving Experience (Credit Score Rendah & Kendaraan Sebelum 2015)')\n",
    "plt.xlabel('Driving Experience')\n",
    "plt.ylabel('Jumlah')\n",
    "plt.xticks(rotation=15)\n",
    "plt.tight_layout()\n",
    "plt.show()\n"
   ]
  },
  {
   "cell_type": "code",
   "execution_count": 84,
   "metadata": {},
   "outputs": [
    {
     "data": {
      "image/png": "[encoded data removed]",
      "text/plain": [
       "<Figure size 600x600 with 1 Axes>"
      ]
     },
     "metadata": {},
     "output_type": "display_data"
    }
   ],
   "source": [
    "import matplotlib.pyplot as plt\n",
    "\n",
    "# Filter data sesuai kondisi\n",
    "filtered = customer_data[\n",
    "    (customer_data['score_bin'] == 'low') &\n",
    "    (customer_data['vehicle_year'] == 'before 2015') &\n",
    "    (customer_data['driving_experience'] == '0-9y')\n",
    "]\n",
    "\n",
    "# Hitung distribusi income\n",
    "income_counts = filtered['income'].value_counts()\n",
    "\n",
    "# Buat pie chart\n",
    "plt.figure(figsize=(6,6))\n",
    "colors = ['#ff9999','#66b3ff','#99ff99','#ffcc99']\n",
    "plt.pie(income_counts, labels=income_counts.index, autopct='%1.1f%%',\n",
    "        startangle=140, colors=colors, wedgeprops={'edgecolor': 'black'})\n",
    "plt.title('Distribusi Kelas Income\\n(Credit Score Rendah, Kendaraan Lama, Pengalaman <10 tahun)')\n",
    "plt.axis('equal')  # Lingkaran sempurna\n",
    "plt.show()\n"
   ]
  },
  {
   "cell_type": "code",
   "execution_count": 90,
   "metadata": {},
   "outputs": [
    {
     "name": "stdout",
     "output_type": "stream",
     "text": [
      "age\n",
      "16-25    2016\n",
      "26-39    3063\n",
      "40-64    2931\n",
      "65+      1990\n",
      "Name: count, dtype: int64\n"
     ]
    }
   ],
   "source": [
    "# Hitung proporsi age\n",
    "age_proportion = customer_data['age'].value_counts().sort_index()\n",
    "\n",
    "# Tampilkan dalam persen\n",
    "print((age_proportion))\n"
   ]
  },
  {
   "cell_type": "code",
   "execution_count": 85,
   "metadata": {},
   "outputs": [
    {
     "data": {
      "image/png": "[encoded data removed]",
      "text/plain": [
       "<Figure size 600x600 with 1 Axes>"
      ]
     },
     "metadata": {},
     "output_type": "display_data"
    }
   ],
   "source": [
    "import matplotlib.pyplot as plt\n",
    "\n",
    "# Filter data sesuai kondisi\n",
    "filtered = customer_data[\n",
    "    (customer_data['score_bin'] == 'low') &\n",
    "    (customer_data['vehicle_year'] == 'before 2015') &\n",
    "    (customer_data['driving_experience'] == '0-9y')\n",
    "]\n",
    "\n",
    "# Hitung distribusi age\n",
    "age_counts = filtered['age'].value_counts()\n",
    "\n",
    "# Buat pie chart\n",
    "plt.figure(figsize=(6,6))\n",
    "colors = ['#ff9999','#66b3ff','#99ff99','#ffcc99']\n",
    "plt.pie(age_counts, labels=age_counts.index, autopct='%1.1f%%',\n",
    "        startangle=140, colors=colors, wedgeprops={'edgecolor': 'black'})\n",
    "plt.title('Distribusi Usia\\n(Credit Score Rendah, Kendaraan Lama, Pengalaman <10 tahun)')\n",
    "plt.axis('equal')  # Lingkaran sempurna\n",
    "plt.show()\n",
    "\n"
   ]
  },
  {
   "cell_type": "code",
   "execution_count": 87,
   "metadata": {},
   "outputs": [
    {
     "data": {
      "image/png": "[encoded data removed]",
      "text/plain": [
       "<Figure size 600x600 with 1 Axes>"
      ]
     },
     "metadata": {},
     "output_type": "display_data"
    }
   ],
   "source": [
    "# Hitung distribusi vehicle ownership\n",
    "ownership_counts = filtered['vehicle_ownership'].value_counts()\n",
    "\n",
    "# Buat pie chart\n",
    "plt.figure(figsize=(6,6))\n",
    "labels = ['Memiliki Kendaraan' if x else 'Tidak Memiliki Kendaraan' for x in ownership_counts.index]\n",
    "colors = ['#66b3ff', '#ff9999']\n",
    "plt.pie(ownership_counts, labels=labels, autopct='%1.1f%%',\n",
    "        startangle=140, colors=colors, wedgeprops={'edgecolor': 'black'})\n",
    "plt.title('Distribusi Vehicle Ownership\\n(Credit Score Rendah, Kendaraan Lama, Pengalaman <10 tahun)')\n",
    "plt.axis('equal')  # Lingkaran sempurna\n",
    "plt.show()"
   ]
  },
  {
   "cell_type": "code",
   "execution_count": 101,
   "metadata": {},
   "outputs": [
    {
     "name": "stderr",
     "output_type": "stream",
     "text": [
      "C:\\Users\\71477\\AppData\\Local\\Temp\\ipykernel_30644\\2116093129.py:10: FutureWarning: The default of observed=False is deprecated and will be changed to True in a future version of pandas. Pass observed=False to retain current behavior or observed=True to adopt the future default and silence this warning.\n",
      "  credit_claim_rate = customer_data.groupby('score_bin')['outcome'].mean().reset_index()\n",
      "C:\\Users\\71477\\AppData\\Local\\Temp\\ipykernel_30644\\2116093129.py:14: FutureWarning: \n",
      "\n",
      "Passing `palette` without assigning `hue` is deprecated and will be removed in v0.14.0. Assign the `x` variable to `hue` and set `legend=False` for the same effect.\n",
      "\n",
      "  sns.barplot(x='score_bin', y='outcome', data=credit_claim_rate, palette='Blues')\n"
     ]
    },
    {
     "data": {
      "image/png": "[encoded data removed]",
      "text/plain": [
       "<Figure size 800x500 with 1 Axes>"
      ]
     },
     "metadata": {},
     "output_type": "display_data"
    }
   ],
   "source": [
    "# Buat kategori credit score\n",
    "# Definisikan batas bin dan label\n",
    "bins = [0.0, 0.4, 0.7, 1.0]\n",
    "labels = ['Low', 'Medium', 'High']\n",
    "\n",
    "customer_data['score_bin'] = pd.cut(customer_data['credit_score'], bins=bins,\n",
    "                                     labels=labels)\n",
    "\n",
    "# Hitung claim rate per bin\n",
    "credit_claim_rate = customer_data.groupby('score_bin')['outcome'].mean().reset_index()\n",
    "\n",
    "# Visualisasikan\n",
    "plt.figure(figsize=(8, 5))\n",
    "sns.barplot(x='score_bin', y='outcome', data=credit_claim_rate, palette='Blues')\n",
    "plt.title('Claim Rate by Credit Score Category')\n",
    "plt.xlabel('Credit Score Category')\n",
    "plt.ylabel('Claim Rate')\n",
    "plt.ylim(0, 1)\n",
    "plt.tight_layout()\n",
    "plt.show()"
   ]
  },
  {
   "cell_type": "markdown",
   "metadata": {},
   "source": [
    "##### Dapat disimpulkan bahwa credit score low memiliki claim rate yang tinggi dan faktor utama claim rate tinggi adalah umur kendaraan yang tua dan driving experience yang rendah"
   ]
  },
  {
   "cell_type": "markdown",
   "metadata": {},
   "source": [
    "##### Selain itu, umur juga mempengaruhi yang dimana dalam kasus ini proporsi umur 16-25 proporsinya mencapai 80%"
   ]
  }
 ],
 "metadata": {
  "kernelspec": {
   "display_name": "Python 3",
   "language": "python",
   "name": "python3"
  },
  "language_info": {
   "codemirror_mode": {
    "name": "ipython",
    "version": 3
   },
   "file_extension": ".py",
   "mimetype": "text/x-python",
   "name": "python",
   "nbconvert_exporter": "python",
   "pygments_lexer": "ipython3",
   "version": "3.13.2"
  }
 },
 "nbformat": 4,
 "nbformat_minor": 2
}
